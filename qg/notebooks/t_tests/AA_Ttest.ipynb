{
 "cells": [
  {
   "cell_type": "code",
   "execution_count": 1,
   "metadata": {},
   "outputs": [
    {
     "name": "stderr",
     "output_type": "stream",
     "text": [
      "c:\\Users\\DeboraOrsolich\\miniconda3\\envs\\ques_gen_env\\lib\\site-packages\\tqdm\\auto.py:22: TqdmWarning: IProgress not found. Please update jupyter and ipywidgets. See https://ipywidgets.readthedocs.io/en/stable/user_install.html\n",
      "  from .autonotebook import tqdm as notebook_tqdm\n"
     ]
    }
   ],
   "source": [
    "import notebook_hook\n",
    "import logging, sys\n",
    "logging.disable(sys.maxsize)\n",
    "import pathlib\n",
    "import json\n",
    "from tqdm import tqdm\n",
    "import pandas as pd\n",
    "from collections import Counter\n",
    "import numpy as np\n",
    "from qg.notebooks.t_tests.t_test_functions import (\n",
    "    count_tokens,\n",
    "    diff_number_words_per_question,\n",
    "    diff_number_of_concepts_per_question,\n",
    "    diff_prop_concepts_per_words,\n",
    "    most_frequent_concepts,\n",
    "    diff_number_of_verbs,\n",
    "    diff_prop_of_verbs,\n",
    ")\n",
    "\n",
    "from qg.results_analysis.objects.POSAnalysis import POS_analysis_object"
   ]
  },
  {
   "cell_type": "code",
   "execution_count": 2,
   "metadata": {},
   "outputs": [
    {
     "name": "stdout",
     "output_type": "stream",
     "text": [
      "Root directory: C:\\Users\\DeboraOrsolich\\Development\\question_generation_models\\deep_qg\\qg\n"
     ]
    }
   ],
   "source": [
    "ROOT_DIR = pathlib.Path().resolve().parents[1]\n",
    "print(f\"Root directory: {ROOT_DIR}\")"
   ]
  },
  {
   "cell_type": "code",
   "execution_count": 3,
   "metadata": {},
   "outputs": [],
   "source": [
    "model = \"AA\"\n",
    "with open(ROOT_DIR/f\"transformers_models/experiment_{model}/mapped_validation_questions.json\", encoding=\"utf-8\") as f:\n",
    "    questions_val = json.load(f)\n",
    "    pred_questions = questions_val[\"predictions\"]\n",
    "\n",
    "with open(ROOT_DIR/f\"transformers_models/experiment_{model}/classification_validation_questions.json\", encoding=\"utf-8\") as f:\n",
    "    pred_y = json.load(f)\n",
    "    pred_y = pred_y[\"pred_y\"]"
   ]
  },
  {
   "cell_type": "code",
   "execution_count": 4,
   "metadata": {},
   "outputs": [
    {
     "name": "stdout",
     "output_type": "stream",
     "text": [
      "1076 101\n"
     ]
    }
   ],
   "source": [
    "df = pd.DataFrame.from_dict({\"text\": pred_questions, \"labels\": pred_y})\n",
    "\n",
    "# preparing the data for the analysis...\n",
    "useful = df[df[\"labels\"]==1]\n",
    "not_useful = df[df[\"labels\"]==0]\n",
    "\n",
    "sets = [useful, not_useful]\n",
    "sets_name = [\"useful\", \"not_useful\"]\n",
    "print(len(sets[0]), len(sets[1]))\n"
   ]
  },
  {
   "cell_type": "code",
   "execution_count": 5,
   "metadata": {},
   "outputs": [
    {
     "name": "stdout",
     "output_type": "stream",
     "text": [
      "### Are there statistically significant differences in the number of words in the questions of each group?\n",
      "No, there are not statistically significant differences in the length of the questions between the two groups\n",
      "   P-value = 0.7687897846588561\n",
      "   Average length of useful questions 10.04460966542751 tokens\n",
      "   Average length of not_useful questions 9.94059405940594 tokens\n",
      "\n",
      "### Are there statistically significant differences in the number of concepts in the questions of each group?\n"
     ]
    },
    {
     "name": "stderr",
     "output_type": "stream",
     "text": [
      "100%|██████████| 1076/1076 [00:00<00:00, 89749.85it/s]\n",
      "100%|██████████| 101/101 [00:00<00:00, 51255.26it/s]\n"
     ]
    },
    {
     "name": "stdout",
     "output_type": "stream",
     "text": [
      "No, there are not statistically significant differences in the number of concepts in each question between the two groups\n",
      "   P-value = 0.6688802111489434\n",
      "   Average number of concepts in useful questions: 2.5446096654275094\n",
      "   Average number of concepts in not useful questions: 2.495049504950495\n",
      "\n",
      "### Are there statistically significant differences in the proportion of concepts per words in each question between both groups?\n"
     ]
    },
    {
     "name": "stderr",
     "output_type": "stream",
     "text": [
      "100%|██████████| 1076/1076 [00:00<00:00, 82533.03it/s]\n",
      "100%|██████████| 101/101 [00:00<00:00, 100839.02it/s]"
     ]
    },
    {
     "name": "stdout",
     "output_type": "stream",
     "text": [
      "No, there are not statistically significant differences HAVE NOT been found in the proportion of concepts per word in each question between the two groups\n",
      "   P-value = 0.6498385143204044\n",
      "   Average proportion of concepts per words in useful questions: 0.2223098705100306\n",
      "   Average proportion of concepts per words in not_useful questions: 0.21932295288976164\n"
     ]
    },
    {
     "name": "stderr",
     "output_type": "stream",
     "text": [
      "\n"
     ]
    }
   ],
   "source": [
    "print(\"### Are there statistically significant differences in the number of words in the questions of each group?\")\n",
    "diff_number_words_per_question(sets, sets_name)\n",
    "print()\n",
    "print(\"### Are there statistically significant differences in the number of concepts in the questions of each group?\")\n",
    "strings_groups = diff_number_of_concepts_per_question(sets, sets_name)\n",
    "print()\n",
    "print(\"### Are there statistically significant differences in the proportion of concepts per words in each question between both groups?\")\n",
    "diff_prop_concepts_per_words(sets, sets_name)\n"
   ]
  },
  {
   "cell_type": "code",
   "execution_count": 6,
   "metadata": {},
   "outputs": [
    {
     "name": "stdout",
     "output_type": "stream",
     "text": [
      "### What are the most frequent concepts in each group?\n",
      "10 MORE FREQUENT CONCEPTS IN USEFUL QUESTIONS\n",
      "   Concept:   frequency\n",
      "  0.   year:     76\n",
      "  1.   type:     13\n",
      "  2.   Justice:     12\n",
      "  3.   Court:     12\n",
      "  4.   people:     12\n",
      "  5.   University:     11\n",
      "  6.   Warsaw:     10\n",
      "  7.   percentage:     10\n",
      "  8.   ctenophores:     8\n",
      "  9.   Victoria:     8\n",
      "\n",
      "10 MORE FREQUENT CONCEPTS IN NOT USEFUL QUESTIONS\n",
      "   Concept:   frequency\n",
      "  0.   year:     4\n",
      "  1.   water:     3\n",
      "  2.   Warsaw:     2\n",
      "  3.   blood levels:     2\n",
      "  4.   president:     2\n",
      "  5.   case:     2\n",
      "  6.   people:     2\n",
      "  7.   non:     2\n",
      "  8.   Virgin Media:     2\n",
      "  9.   Sky:     2\n"
     ]
    }
   ],
   "source": [
    "print(\"### What are the most frequent concepts in each group?\")\n",
    "cnt_useful, cnt_not_useful, all_strings_useful, all_strings_not_useful = most_frequent_concepts(strings_groups)\n",
    "n = 10\n",
    "\n",
    "print(f\"{n} MORE FREQUENT CONCEPTS IN USEFUL QUESTIONS\")\n",
    "print(f\"   Concept:   frequency\")\n",
    "for i in range(n):\n",
    "    concept = cnt_useful[i][0]\n",
    "    count = cnt_useful[i][1]\n",
    "    print(f\"  {i}.   {concept}:     {count}\")\n",
    "\n",
    "print()\n",
    "print(f\"{n} MORE FREQUENT CONCEPTS IN NOT USEFUL QUESTIONS\")\n",
    "print(f\"   Concept:   frequency\")\n",
    "for i in range(n):\n",
    "    concept = cnt_not_useful[i][0]\n",
    "    count = cnt_not_useful[i][1]\n",
    "    print(f\"  {i}.   {concept}:     {count}\")"
   ]
  },
  {
   "cell_type": "code",
   "execution_count": 7,
   "metadata": {},
   "outputs": [
    {
     "name": "stdout",
     "output_type": "stream",
     "text": [
      "### Are there statistically significant differences in the number of verbs in each question between both groups?\n"
     ]
    },
    {
     "name": "stderr",
     "output_type": "stream",
     "text": [
      "100%|██████████| 1076/1076 [00:00<00:00, 153735.90it/s]\n",
      "100%|██████████| 101/101 [00:00<00:00, 101152.03it/s]\n"
     ]
    },
    {
     "name": "stdout",
     "output_type": "stream",
     "text": [
      "No, there are not statistically significant differences in the number of VERBS in each question between the two groups\n",
      "   P-value = 0.32526721063204656\n",
      "   Average number of verbs in useful questions: 0.8894052044609665 verbs\n",
      "   Average number of verbs in not useful questions: 0.8118811881188119 verbs\n",
      "### Are there statistically significant differences in the proportion of verbs per words in each question between both groups?\n"
     ]
    },
    {
     "name": "stderr",
     "output_type": "stream",
     "text": [
      "100%|██████████| 1076/1076 [00:00<00:00, 153730.66it/s]\n",
      "100%|██████████| 101/101 [00:00<00:00, 33677.14it/s]"
     ]
    },
    {
     "name": "stdout",
     "output_type": "stream",
     "text": [
      "No, there are not Statistically significant differences in the proportion of VERBS per words in each question between the two groups\n",
      "   P-value = 0.2535669100696515\n",
      "   Average proportion of verbs per words in useful questions: 0.07920951575332846 verbs\n",
      "   Average proportion of verbs per words in not useful questions: 0.07173700380448687 verbs\n"
     ]
    },
    {
     "name": "stderr",
     "output_type": "stream",
     "text": [
      "\n"
     ]
    }
   ],
   "source": [
    "print(\"### Are there statistically significant differences in the number of verbs in each question between both groups?\")\n",
    "verbs_groups = diff_number_of_verbs(sets, sets_name)\n",
    "print(\"### Are there statistically significant differences in the proportion of verbs per words in each question between both groups?\")\n",
    "diff_prop_of_verbs(sets, sets_name)\n"
   ]
  },
  {
   "cell_type": "code",
   "execution_count": 8,
   "metadata": {},
   "outputs": [
    {
     "name": "stdout",
     "output_type": "stream",
     "text": [
      "### What are the most frequent verbs?\n",
      "10 MORE FREQUENT VERBS IN USEFUL QUESTIONS\n",
      "   Verb:   frequency      Proportion\n",
      "  0.   established:     14      0.014629049111807733\n",
      "  1.   known:     9      0.009404388714733543\n",
      "  2.   published:     8      0.008359456635318705\n",
      "  3.   built:     8      0.008359456635318705\n",
      "  4.   begin:     8      0.008359456635318705\n",
      "  5.   use:     7      0.0073145245559038665\n",
      "  6.   believe:     7      0.0073145245559038665\n",
      "  7.   developed:     7      0.0073145245559038665\n",
      "  8.   created:     7      0.0073145245559038665\n",
      "  9.   founded:     6      0.006269592476489028\n",
      "\n",
      "10 MORE FREQUENT VERBS IN NOT USEFUL QUESTIONS\n",
      "   Verb:   frequency      Proportion\n",
      "  0.   founded:     3      0.036585365853658534\n",
      "  1.   demolished:     2      0.024390243902439025\n",
      "  2.   caused:     2      0.024390243902439025\n",
      "  3.   identified:     1      0.012195121951219513\n",
      "  4.   dealing:     1      0.012195121951219513\n",
      "  5.   expounded:     1      0.012195121951219513\n",
      "  6.   pointing:     1      0.012195121951219513\n",
      "  7.   mean:     1      0.012195121951219513\n",
      "  8.   composed:     1      0.012195121951219513\n",
      "  9.   believe:     1      0.012195121951219513\n"
     ]
    }
   ],
   "source": [
    "print(\"### What are the most frequent verbs?\")\n",
    "cnt_useful, cnt_not_useful, all_verbs_useful, all_verbs_not_useful = most_frequent_concepts(verbs_groups)\n",
    "n = 10\n",
    "\n",
    "print(f\"{n} MORE FREQUENT VERBS IN USEFUL QUESTIONS\")\n",
    "print(f\"   Verb:   frequency      Proportion\")\n",
    "for i in range(n):\n",
    "    verb = cnt_useful[i][0]\n",
    "    count = cnt_useful[i][1]\n",
    "    prop = cnt_useful[i][1] / len(all_verbs_useful)\n",
    "    print(f\"  {i}.   {verb}:     {count}      {prop}\")\n",
    "\n",
    "print()\n",
    "print(f\"{n} MORE FREQUENT VERBS IN NOT USEFUL QUESTIONS\")\n",
    "print(f\"   Verb:   frequency      Proportion\")\n",
    "for i in range(n):\n",
    "    verb = cnt_not_useful[i][0]\n",
    "    count = cnt_not_useful[i][1]\n",
    "    prop = cnt_not_useful[i][1] / len(all_verbs_not_useful)\n",
    "    print(f\"  {i}.   {verb}:     {count}      {prop}\")"
   ]
  },
  {
   "cell_type": "code",
   "execution_count": 9,
   "metadata": {},
   "outputs": [
    {
     "name": "stderr",
     "output_type": "stream",
     "text": [
      "100%|██████████| 1076/1076 [00:00<00:00, 538167.32it/s]\n",
      "100%|██████████| 101/101 [00:00<?, ?it/s]\n"
     ]
    }
   ],
   "source": [
    "first_words = {}\n",
    "for set, name in zip(sets, sets_name):\n",
    "    pos_analysis = POS_analysis_object()\n",
    "    questions_pipeline = pos_analysis.nlp_pipeline(set[\"text\"].values)\n",
    "\n",
    "    first_word = []\n",
    "    for question in tqdm(questions_pipeline):\n",
    "        first_word.append(str(question[0]))\n",
    "    first_words[name] = first_word"
   ]
  },
  {
   "cell_type": "code",
   "execution_count": 10,
   "metadata": {},
   "outputs": [],
   "source": [
    "cnt = Counter()\n",
    "cnt_useful = Counter(first_words[\"useful\"])\n",
    "cnt_not_useful = Counter(first_words[\"not_useful\"])\n",
    "\n",
    "cnt_useful = sorted(cnt_useful.items(), key=lambda item: item[1])\n",
    "cnt_not_useful = sorted(cnt_not_useful.items(), key=lambda item: item[1])\n",
    "\n",
    "cnt_useful.reverse()\n",
    "cnt_not_useful.reverse()"
   ]
  },
  {
   "cell_type": "code",
   "execution_count": 11,
   "metadata": {},
   "outputs": [
    {
     "name": "stdout",
     "output_type": "stream",
     "text": [
      "10 MORE FREQUENT FIRST WORDS IN USEFUL QUESTIONS\n",
      "   Init word:   frequency      Proportion\n",
      "  0.   What:     552      0.5130111524163569\n",
      "  1.   Who:     138      0.12825278810408922\n",
      "  2.   When:     130      0.120817843866171\n",
      "  3.   How:     127      0.11802973977695168\n",
      "  4.   In:     79      0.07342007434944238\n",
      "  5.   Where:     13      0.012081784386617101\n",
      "  6.   The:     6      0.0055762081784386614\n",
      "  7.   On:     4      0.0037174721189591076\n",
      "  8.   Private:     3      0.0027881040892193307\n",
      "  9.   Which:     3      0.0027881040892193307\n",
      "\n",
      "10 MORE FREQUENT FIRST WORDS IN NOT USEFUL QUESTIONS\n",
      "   Init word:   frequency      Proportion\n",
      "  0.   What:     47      0.46534653465346537\n",
      "  1.   Who:     18      0.1782178217821782\n",
      "  2.   How:     16      0.15841584158415842\n",
      "  3.   When:     14      0.13861386138613863\n",
      "  4.   In:     3      0.0297029702970297\n",
      "  5.   During:     1      0.009900990099009901\n",
      "  6.   the:     1      0.009900990099009901\n",
      "  7.   Virgin:     1      0.009900990099009901\n"
     ]
    },
    {
     "ename": "IndexError",
     "evalue": "list index out of range",
     "output_type": "error",
     "traceback": [
      "\u001b[1;31m---------------------------------------------------------------------------\u001b[0m",
      "\u001b[1;31mIndexError\u001b[0m                                Traceback (most recent call last)",
      "\u001b[1;32mc:\\Users\\DeboraOrsolich\\Development\\question_generation_models\\deep_qg\\qg\\notebooks\\t_tests\\AA_Ttest.ipynb Cell 11\u001b[0m in \u001b[0;36m<cell line: 14>\u001b[1;34m()\u001b[0m\n\u001b[0;32m     <a href='vscode-notebook-cell:/c%3A/Users/DeboraOrsolich/Development/question_generation_models/deep_qg/qg/notebooks/t_tests/AA_Ttest.ipynb#X13sZmlsZQ%3D%3D?line=12'>13</a>\u001b[0m \u001b[39mprint\u001b[39m(\u001b[39mf\u001b[39m\u001b[39m\"\u001b[39m\u001b[39m   Init word:   frequency      Proportion\u001b[39m\u001b[39m\"\u001b[39m)\n\u001b[0;32m     <a href='vscode-notebook-cell:/c%3A/Users/DeboraOrsolich/Development/question_generation_models/deep_qg/qg/notebooks/t_tests/AA_Ttest.ipynb#X13sZmlsZQ%3D%3D?line=13'>14</a>\u001b[0m \u001b[39mfor\u001b[39;00m i \u001b[39min\u001b[39;00m \u001b[39mrange\u001b[39m(n):\n\u001b[1;32m---> <a href='vscode-notebook-cell:/c%3A/Users/DeboraOrsolich/Development/question_generation_models/deep_qg/qg/notebooks/t_tests/AA_Ttest.ipynb#X13sZmlsZQ%3D%3D?line=14'>15</a>\u001b[0m     verb \u001b[39m=\u001b[39m cnt_not_useful[i][\u001b[39m0\u001b[39m]\n\u001b[0;32m     <a href='vscode-notebook-cell:/c%3A/Users/DeboraOrsolich/Development/question_generation_models/deep_qg/qg/notebooks/t_tests/AA_Ttest.ipynb#X13sZmlsZQ%3D%3D?line=15'>16</a>\u001b[0m     count \u001b[39m=\u001b[39m cnt_not_useful[i][\u001b[39m1\u001b[39m]\n\u001b[0;32m     <a href='vscode-notebook-cell:/c%3A/Users/DeboraOrsolich/Development/question_generation_models/deep_qg/qg/notebooks/t_tests/AA_Ttest.ipynb#X13sZmlsZQ%3D%3D?line=16'>17</a>\u001b[0m     prop \u001b[39m=\u001b[39m cnt_not_useful[i][\u001b[39m1\u001b[39m] \u001b[39m/\u001b[39m \u001b[39mlen\u001b[39m(first_words[\u001b[39m\"\u001b[39m\u001b[39mnot_useful\u001b[39m\u001b[39m\"\u001b[39m])\n",
      "\u001b[1;31mIndexError\u001b[0m: list index out of range"
     ]
    }
   ],
   "source": [
    "n = 10\n",
    "\n",
    "print(f\"{n} MORE FREQUENT FIRST WORDS IN USEFUL QUESTIONS\")\n",
    "print(f\"   Init word:   frequency      Proportion\")\n",
    "for i in range(n):\n",
    "    verb = cnt_useful[i][0]\n",
    "    count = cnt_useful[i][1]\n",
    "    prop = cnt_useful[i][1] / len(first_words[\"useful\"])\n",
    "    print(f\"  {i}.   {verb}:     {count}      {prop}\")\n",
    "\n",
    "print()\n",
    "print(f\"{n} MORE FREQUENT FIRST WORDS IN NOT USEFUL QUESTIONS\")\n",
    "print(f\"   Init word:   frequency      Proportion\")\n",
    "for i in range(n):\n",
    "    verb = cnt_not_useful[i][0]\n",
    "    count = cnt_not_useful[i][1]\n",
    "    prop = cnt_not_useful[i][1] / len(first_words[\"not_useful\"])\n",
    "    print(f\"  {i}.   {verb}:     {count}      {prop}\")"
   ]
  },
  {
   "cell_type": "code",
   "execution_count": null,
   "metadata": {},
   "outputs": [],
   "source": []
  }
 ],
 "metadata": {
  "kernelspec": {
   "display_name": "Python 3.8.13 ('ques_gen_env')",
   "language": "python",
   "name": "python3"
  },
  "language_info": {
   "codemirror_mode": {
    "name": "ipython",
    "version": 3
   },
   "file_extension": ".py",
   "mimetype": "text/x-python",
   "name": "python",
   "nbconvert_exporter": "python",
   "pygments_lexer": "ipython3",
   "version": "3.8.13"
  },
  "orig_nbformat": 4,
  "vscode": {
   "interpreter": {
    "hash": "bc601a73fdd21029cabb389f5777df311758dfa951f719b3a4a78b5169f7a217"
   }
  }
 },
 "nbformat": 4,
 "nbformat_minor": 2
}
