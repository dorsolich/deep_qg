{
 "cells": [
  {
   "cell_type": "code",
   "execution_count": 1,
   "metadata": {},
   "outputs": [
    {
     "name": "stderr",
     "output_type": "stream",
     "text": [
      "c:\\Users\\DeboraOrsolich\\miniconda3\\envs\\ques_gen_env\\lib\\site-packages\\tqdm\\auto.py:22: TqdmWarning: IProgress not found. Please update jupyter and ipywidgets. See https://ipywidgets.readthedocs.io/en/stable/user_install.html\n",
      "  from .autonotebook import tqdm as notebook_tqdm\n"
     ]
    }
   ],
   "source": [
    "import notebook_hook\n",
    "import logging, sys\n",
    "logging.disable(sys.maxsize)\n",
    "import pathlib\n",
    "import json\n",
    "from tqdm import tqdm\n",
    "import pandas as pd\n",
    "from collections import Counter\n",
    "import numpy as np\n",
    "from qg.notebooks.t_tests.t_test_functions import (\n",
    "    count_tokens,\n",
    "    diff_number_words_per_question,\n",
    "    diff_number_of_concepts_per_question,\n",
    "    diff_prop_concepts_per_words,\n",
    "    most_frequent_concepts,\n",
    "    diff_number_of_verbs,\n",
    "    diff_prop_of_verbs,\n",
    ")\n",
    "\n",
    "from qg.results_analysis.objects.POSAnalysis import POS_analysis_object"
   ]
  },
  {
   "cell_type": "code",
   "execution_count": 2,
   "metadata": {},
   "outputs": [
    {
     "name": "stdout",
     "output_type": "stream",
     "text": [
      "Root directory: C:\\Users\\DeboraOrsolich\\Development\\question_generation_models\\deep_qg\\qg\n"
     ]
    }
   ],
   "source": [
    "ROOT_DIR = pathlib.Path().resolve().parents[1]\n",
    "print(f\"Root directory: {ROOT_DIR}\")"
   ]
  },
  {
   "cell_type": "code",
   "execution_count": 3,
   "metadata": {},
   "outputs": [],
   "source": [
    "model = \"OQPL\"\n",
    "with open(ROOT_DIR/f\"transformers_models/experiment_{model}/mapped_validation_questions.json\", encoding=\"utf-8\") as f:\n",
    "    questions_val = json.load(f)\n",
    "    pred_questions = questions_val[\"predictions\"]\n",
    "\n",
    "with open(ROOT_DIR/f\"transformers_models/experiment_{model}/classification_validation_questions.json\", encoding=\"utf-8\") as f:\n",
    "    pred_y = json.load(f)\n",
    "    pred_y = pred_y[\"pred_y\"]"
   ]
  },
  {
   "cell_type": "code",
   "execution_count": 4,
   "metadata": {},
   "outputs": [
    {
     "name": "stdout",
     "output_type": "stream",
     "text": [
      "992 185\n"
     ]
    }
   ],
   "source": [
    "df = pd.DataFrame.from_dict({\"text\": pred_questions, \"labels\": pred_y})\n",
    "\n",
    "# preparing the data for the analysis...\n",
    "useful = df[df[\"labels\"]==1]\n",
    "not_useful = df[df[\"labels\"]==0]\n",
    "\n",
    "sets = [useful, not_useful]\n",
    "sets_name = [\"useful\", \"not_useful\"]\n",
    "print(len(sets[0]), len(sets[1]))\n"
   ]
  },
  {
   "cell_type": "code",
   "execution_count": 5,
   "metadata": {},
   "outputs": [
    {
     "name": "stdout",
     "output_type": "stream",
     "text": [
      "### Are there statistically significant differences in the number of words in the questions of each group?\n",
      "No, there are not statistically significant differences in the length of the questions between the two groups\n",
      "   P-value = 0.4398158235862317\n",
      "   Average length of useful questions 11.331653225806452 tokens\n",
      "   Average length of not_useful questions 11.6 tokens\n",
      "\n",
      "### Are there statistically significant differences in the number of concepts in the questions of each group?\n"
     ]
    },
    {
     "name": "stderr",
     "output_type": "stream",
     "text": [
      "100%|██████████| 992/992 [00:00<00:00, 50637.10it/s]\n",
      "100%|██████████| 185/185 [00:00<00:00, 60920.64it/s]\n"
     ]
    },
    {
     "name": "stdout",
     "output_type": "stream",
     "text": [
      "No, there are not statistically significant differences in the number of concepts in each question between the two groups\n",
      "   P-value = 0.2884185089784427\n",
      "   Average number of concepts in useful questions: 3.0534274193548385\n",
      "   Average number of concepts in not useful questions: 3.1837837837837837\n",
      "\n",
      "### Are there statistically significant differences in the proportion of concepts per words in each question between both groups?\n"
     ]
    },
    {
     "name": "stderr",
     "output_type": "stream",
     "text": [
      "100%|██████████| 992/992 [00:00<00:00, 76328.62it/s]\n",
      "100%|██████████| 185/185 [00:00<00:00, 90913.44it/s]"
     ]
    },
    {
     "name": "stdout",
     "output_type": "stream",
     "text": [
      "No, there are not statistically significant differences HAVE NOT been found in the proportion of concepts per word in each question between the two groups\n",
      "   P-value = 0.28734275904707623\n",
      "   Average proportion of concepts per words in useful questions: 0.23380767944302489\n",
      "   Average proportion of concepts per words in not_useful questions: 0.2392658224743459\n"
     ]
    },
    {
     "name": "stderr",
     "output_type": "stream",
     "text": [
      "\n"
     ]
    }
   ],
   "source": [
    "print(\"### Are there statistically significant differences in the number of words in the questions of each group?\")\n",
    "diff_number_words_per_question(sets, sets_name)\n",
    "print()\n",
    "print(\"### Are there statistically significant differences in the number of concepts in the questions of each group?\")\n",
    "strings_groups = diff_number_of_concepts_per_question(sets, sets_name)\n",
    "print()\n",
    "print(\"### Are there statistically significant differences in the proportion of concepts per words in each question between both groups?\")\n",
    "diff_prop_concepts_per_words(sets, sets_name)\n"
   ]
  },
  {
   "cell_type": "code",
   "execution_count": 6,
   "metadata": {},
   "outputs": [
    {
     "name": "stdout",
     "output_type": "stream",
     "text": [
      "### What are the most frequent concepts in each group?\n",
      "10 MORE FREQUENT CONCEPTS IN USEFUL QUESTIONS\n",
      "   Concept:   frequency\n",
      "  0.   type:     33\n",
      "  1.   definition:     17\n",
      "  2.   Warsaw:     14\n",
      "  3.   Rhine:     13\n",
      "  4.   University:     12\n",
      "  5.   imperialism:     11\n",
      "  6.   number:     11\n",
      "  7.   Parliament:     9\n",
      "  8.   immune system:     8\n",
      "  9.   construction:     8\n",
      "\n",
      "10 MORE FREQUENT CONCEPTS IN NOT USEFUL QUESTIONS\n",
      "   Concept:   frequency\n",
      "  0.   Warsaw:     4\n",
      "  1.   force:     4\n",
      "  2.   government:     4\n",
      "  3.   southern California:     4\n",
      "  4.   Newton:     3\n",
      "  5.   wealth:     3\n",
      "  6.   civil disobedience:     3\n",
      "  7.   control:     2\n",
      "  8.   term:     2\n",
      "  9.   system:     2\n"
     ]
    }
   ],
   "source": [
    "print(\"### What are the most frequent concepts in each group?\")\n",
    "cnt_useful, cnt_not_useful, all_strings_useful, all_strings_not_useful = most_frequent_concepts(strings_groups)\n",
    "n = 10\n",
    "\n",
    "print(f\"{n} MORE FREQUENT CONCEPTS IN USEFUL QUESTIONS\")\n",
    "print(f\"   Concept:   frequency\")\n",
    "for i in range(n):\n",
    "    concept = cnt_useful[i][0]\n",
    "    count = cnt_useful[i][1]\n",
    "    print(f\"  {i}.   {concept}:     {count}\")\n",
    "\n",
    "print()\n",
    "print(f\"{n} MORE FREQUENT CONCEPTS IN NOT USEFUL QUESTIONS\")\n",
    "print(f\"   Concept:   frequency\")\n",
    "for i in range(n):\n",
    "    concept = cnt_not_useful[i][0]\n",
    "    count = cnt_not_useful[i][1]\n",
    "    print(f\"  {i}.   {concept}:     {count}\")"
   ]
  },
  {
   "cell_type": "code",
   "execution_count": 7,
   "metadata": {},
   "outputs": [
    {
     "name": "stdout",
     "output_type": "stream",
     "text": [
      "### Are there statistically significant differences in the number of verbs in each question between both groups?\n"
     ]
    },
    {
     "name": "stderr",
     "output_type": "stream",
     "text": [
      "100%|██████████| 992/992 [00:00<00:00, 100472.07it/s]\n",
      "100%|██████████| 185/185 [00:00<00:00, 61700.56it/s]\n"
     ]
    },
    {
     "name": "stdout",
     "output_type": "stream",
     "text": [
      "No, there are not statistically significant differences in the number of VERBS in each question between the two groups\n",
      "   P-value = 0.9401040983387079\n",
      "   Average number of verbs in useful questions: 0.9465725806451613 verbs\n",
      "   Average number of verbs in not useful questions: 0.9513513513513514 verbs\n",
      "### Are there statistically significant differences in the proportion of verbs per words in each question between both groups?\n"
     ]
    },
    {
     "name": "stderr",
     "output_type": "stream",
     "text": [
      "100%|██████████| 992/992 [00:00<00:00, 110241.89it/s]\n",
      "100%|██████████| 185/185 [00:00<00:00, 92572.92it/s]"
     ]
    },
    {
     "name": "stdout",
     "output_type": "stream",
     "text": [
      "No, there are not Statistically significant differences in the proportion of VERBS per words in each question between the two groups\n",
      "   P-value = 0.6461978354538308\n",
      "   Average proportion of verbs per words in useful questions: 0.07556092802479986 verbs\n",
      "   Average proportion of verbs per words in not useful questions: 0.07337937074119834 verbs\n"
     ]
    },
    {
     "name": "stderr",
     "output_type": "stream",
     "text": [
      "\n"
     ]
    }
   ],
   "source": [
    "print(\"### Are there statistically significant differences in the number of verbs in each question between both groups?\")\n",
    "verbs_groups = diff_number_of_verbs(sets, sets_name)\n",
    "print(\"### Are there statistically significant differences in the proportion of verbs per words in each question between both groups?\")\n",
    "diff_prop_of_verbs(sets, sets_name)\n"
   ]
  },
  {
   "cell_type": "code",
   "execution_count": 8,
   "metadata": {},
   "outputs": [
    {
     "name": "stdout",
     "output_type": "stream",
     "text": [
      "### What are the most frequent verbs?\n",
      "10 MORE FREQUENT VERBS IN USEFUL QUESTIONS\n",
      "   Verb:   frequency      Proportion\n",
      "  0.   given:     9      0.009584664536741214\n",
      "  1.   established:     9      0.009584664536741214\n",
      "  2.   found:     9      0.009584664536741214\n",
      "  3.   based:     8      0.008519701810436636\n",
      "  4.   located:     8      0.008519701810436636\n",
      "  5.   known:     7      0.007454739084132056\n",
      "  6.   developed:     6      0.006389776357827476\n",
      "  7.   introduced:     6      0.006389776357827476\n",
      "  8.   required:     6      0.006389776357827476\n",
      "  9.   use:     6      0.006389776357827476\n",
      "\n",
      "10 MORE FREQUENT VERBS IN NOT USEFUL QUESTIONS\n",
      "   Verb:   frequency      Proportion\n",
      "  0.   developed:     5      0.028409090909090908\n",
      "  1.   found:     3      0.017045454545454544\n",
      "  2.   founded:     3      0.017045454545454544\n",
      "  3.   sent:     2      0.011363636363636364\n",
      "  4.   formulated:     2      0.011363636363636364\n",
      "  5.   established:     2      0.011363636363636364\n",
      "  6.   known:     2      0.011363636363636364\n",
      "  7.   located:     2      0.011363636363636364\n",
      "  8.   given:     2      0.011363636363636364\n",
      "  9.   wrote:     2      0.011363636363636364\n"
     ]
    }
   ],
   "source": [
    "print(\"### What are the most frequent verbs?\")\n",
    "cnt_useful, cnt_not_useful, all_verbs_useful, all_verbs_not_useful = most_frequent_concepts(verbs_groups)\n",
    "n = 10\n",
    "\n",
    "print(f\"{n} MORE FREQUENT VERBS IN USEFUL QUESTIONS\")\n",
    "print(f\"   Verb:   frequency      Proportion\")\n",
    "for i in range(n):\n",
    "    verb = cnt_useful[i][0]\n",
    "    count = cnt_useful[i][1]\n",
    "    prop = cnt_useful[i][1] / len(all_verbs_useful)\n",
    "    print(f\"  {i}.   {verb}:     {count}      {prop}\")\n",
    "\n",
    "print()\n",
    "print(f\"{n} MORE FREQUENT VERBS IN NOT USEFUL QUESTIONS\")\n",
    "print(f\"   Verb:   frequency      Proportion\")\n",
    "for i in range(n):\n",
    "    verb = cnt_not_useful[i][0]\n",
    "    count = cnt_not_useful[i][1]\n",
    "    prop = cnt_not_useful[i][1] / len(all_verbs_not_useful)\n",
    "    print(f\"  {i}.   {verb}:     {count}      {prop}\")"
   ]
  },
  {
   "cell_type": "code",
   "execution_count": 9,
   "metadata": {},
   "outputs": [
    {
     "name": "stderr",
     "output_type": "stream",
     "text": [
      "100%|██████████| 992/992 [00:00<00:00, 991126.62it/s]\n",
      "100%|██████████| 185/185 [00:00<?, ?it/s]\n"
     ]
    }
   ],
   "source": [
    "first_words = {}\n",
    "for set, name in zip(sets, sets_name):\n",
    "    pos_analysis = POS_analysis_object()\n",
    "    questions_pipeline = pos_analysis.nlp_pipeline(set[\"text\"].values)\n",
    "\n",
    "    first_word = []\n",
    "    for question in tqdm(questions_pipeline):\n",
    "        first_word.append(str(question[0]))\n",
    "    first_words[name] = first_word"
   ]
  },
  {
   "cell_type": "code",
   "execution_count": 10,
   "metadata": {},
   "outputs": [],
   "source": [
    "cnt = Counter()\n",
    "cnt_useful = Counter(first_words[\"useful\"])\n",
    "cnt_not_useful = Counter(first_words[\"not_useful\"])\n",
    "\n",
    "cnt_useful = sorted(cnt_useful.items(), key=lambda item: item[1])\n",
    "cnt_not_useful = sorted(cnt_not_useful.items(), key=lambda item: item[1])\n",
    "\n",
    "cnt_useful.reverse()\n",
    "cnt_not_useful.reverse()"
   ]
  },
  {
   "cell_type": "code",
   "execution_count": 11,
   "metadata": {},
   "outputs": [
    {
     "name": "stdout",
     "output_type": "stream",
     "text": [
      "10 MORE FREQUENT FIRST WORDS IN USEFUL QUESTIONS\n",
      "   Init word:   frequency      Proportion\n",
      "  0.   What:     506      0.5100806451612904\n",
      "  1.   Who:     141      0.14213709677419356\n",
      "  2.   When:     91      0.09173387096774194\n",
      "  3.   How:     67      0.06754032258064516\n",
      "  4.   In:     28      0.028225806451612902\n",
      "  5.   Where:     21      0.021169354838709676\n",
      "  6.   The:     11      0.011088709677419355\n",
      "  7.   By:     7      0.007056451612903226\n",
      "  8.   Which:     7      0.007056451612903226\n",
      "  9.   Between:     6      0.006048387096774193\n",
      "\n",
      "10 MORE FREQUENT FIRST WORDS IN NOT USEFUL QUESTIONS\n",
      "   Init word:   frequency      Proportion\n",
      "  0.   What:     98      0.5297297297297298\n",
      "  1.   Who:     30      0.16216216216216217\n",
      "  2.   When:     16      0.08648648648648649\n",
      "  3.   How:     11      0.05945945945945946\n",
      "  4.   In:     5      0.02702702702702703\n",
      "  5.   Which:     3      0.016216216216216217\n",
      "  6.   Where:     2      0.010810810810810811\n",
      "  7.   The:     2      0.010810810810810811\n",
      "  8.   Southern:     2      0.010810810810810811\n",
      "  9.   Galileo:     1      0.005405405405405406\n"
     ]
    }
   ],
   "source": [
    "n = 10\n",
    "\n",
    "print(f\"{n} MORE FREQUENT FIRST WORDS IN USEFUL QUESTIONS\")\n",
    "print(f\"   Init word:   frequency      Proportion\")\n",
    "for i in range(n):\n",
    "    verb = cnt_useful[i][0]\n",
    "    count = cnt_useful[i][1]\n",
    "    prop = cnt_useful[i][1] / len(first_words[\"useful\"])\n",
    "    print(f\"  {i}.   {verb}:     {count}      {prop}\")\n",
    "\n",
    "print()\n",
    "print(f\"{n} MORE FREQUENT FIRST WORDS IN NOT USEFUL QUESTIONS\")\n",
    "print(f\"   Init word:   frequency      Proportion\")\n",
    "for i in range(n):\n",
    "    verb = cnt_not_useful[i][0]\n",
    "    count = cnt_not_useful[i][1]\n",
    "    prop = cnt_not_useful[i][1] / len(first_words[\"not_useful\"])\n",
    "    print(f\"  {i}.   {verb}:     {count}      {prop}\")"
   ]
  },
  {
   "cell_type": "code",
   "execution_count": null,
   "metadata": {},
   "outputs": [],
   "source": []
  }
 ],
 "metadata": {
  "kernelspec": {
   "display_name": "Python 3.8.13 ('ques_gen_env')",
   "language": "python",
   "name": "python3"
  },
  "language_info": {
   "codemirror_mode": {
    "name": "ipython",
    "version": 3
   },
   "file_extension": ".py",
   "mimetype": "text/x-python",
   "name": "python",
   "nbconvert_exporter": "python",
   "pygments_lexer": "ipython3",
   "version": "3.8.13"
  },
  "orig_nbformat": 4,
  "vscode": {
   "interpreter": {
    "hash": "bc601a73fdd21029cabb389f5777df311758dfa951f719b3a4a78b5169f7a217"
   }
  }
 },
 "nbformat": 4,
 "nbformat_minor": 2
}
