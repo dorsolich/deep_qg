{
 "cells": [
  {
   "cell_type": "code",
   "execution_count": 1,
   "metadata": {},
   "outputs": [
    {
     "name": "stderr",
     "output_type": "stream",
     "text": [
      "c:\\Users\\DeboraOrsolich\\miniconda3\\envs\\ques_gen_env\\lib\\site-packages\\tqdm\\auto.py:22: TqdmWarning: IProgress not found. Please update jupyter and ipywidgets. See https://ipywidgets.readthedocs.io/en/stable/user_install.html\n",
      "  from .autonotebook import tqdm as notebook_tqdm\n"
     ]
    }
   ],
   "source": [
    "import notebook_hook\n",
    "import logging, sys\n",
    "logging.disable(sys.maxsize)\n",
    "import pathlib\n",
    "import json\n",
    "from tqdm import tqdm\n",
    "import pandas as pd\n",
    "from collections import Counter\n",
    "import numpy as np\n",
    "from qg.notebooks.t_tests.t_test_functions import (\n",
    "    count_tokens,\n",
    "    diff_number_words_per_question,\n",
    "    diff_number_of_concepts_per_question,\n",
    "    diff_prop_concepts_per_words,\n",
    "    most_frequent_concepts,\n",
    "    diff_number_of_verbs,\n",
    "    diff_prop_of_verbs,\n",
    ")\n",
    "\n",
    "from qg.results_analysis.objects.POSAnalysis import POS_analysis_object"
   ]
  },
  {
   "cell_type": "code",
   "execution_count": 2,
   "metadata": {},
   "outputs": [
    {
     "name": "stdout",
     "output_type": "stream",
     "text": [
      "Root directory: C:\\Users\\DeboraOrsolich\\Development\\question_generation_models\\deep_qg\\qg\n"
     ]
    }
   ],
   "source": [
    "ROOT_DIR = pathlib.Path().resolve().parents[1]\n",
    "print(f\"Root directory: {ROOT_DIR}\")"
   ]
  },
  {
   "cell_type": "code",
   "execution_count": 3,
   "metadata": {},
   "outputs": [],
   "source": [
    "model = \"basic\"\n",
    "with open(ROOT_DIR/f\"transformers_models/experiment_{model}/mapped_validation_questions.json\", encoding=\"utf-8\") as f:\n",
    "    questions_val = json.load(f)\n",
    "    pred_questions = questions_val[\"predictions\"]\n",
    "\n",
    "with open(ROOT_DIR/f\"transformers_models/experiment_{model}/classification_validation_questions.json\", encoding=\"utf-8\") as f:\n",
    "    pred_y = json.load(f)\n",
    "    pred_y = pred_y[\"pred_y\"]"
   ]
  },
  {
   "cell_type": "code",
   "execution_count": 4,
   "metadata": {},
   "outputs": [
    {
     "name": "stdout",
     "output_type": "stream",
     "text": [
      "1094 83\n"
     ]
    }
   ],
   "source": [
    "df = pd.DataFrame.from_dict({\"text\": pred_questions, \"labels\": pred_y})\n",
    "\n",
    "# preparing the data for the analysis...\n",
    "useful = df[df[\"labels\"]==1]\n",
    "not_useful = df[df[\"labels\"]==0]\n",
    "\n",
    "sets = [useful, not_useful]\n",
    "sets_name = [\"useful\", \"not_useful\"]\n",
    "print(len(sets[0]), len(sets[1]))\n"
   ]
  },
  {
   "cell_type": "code",
   "execution_count": 5,
   "metadata": {},
   "outputs": [
    {
     "name": "stdout",
     "output_type": "stream",
     "text": [
      "### Are there statistically significant differences in the number of words in the questions of each group?\n",
      "No, there are not statistically significant differences in the length of the questions between the two groups\n",
      "   P-value = 0.23697764000193974\n",
      "   Average length of useful questions 9.896709323583181 tokens\n",
      "   Average length of not_useful questions 10.397590361445783 tokens\n",
      "\n",
      "### Are there statistically significant differences in the number of concepts in the questions of each group?\n"
     ]
    },
    {
     "name": "stderr",
     "output_type": "stream",
     "text": [
      "100%|██████████| 1094/1094 [00:00<00:00, 78145.86it/s]\n",
      "100%|██████████| 83/83 [00:00<00:00, 41517.86it/s]\n"
     ]
    },
    {
     "name": "stdout",
     "output_type": "stream",
     "text": [
      "No, there are not statistically significant differences in the number of concepts in each question between the two groups\n",
      "   P-value = 0.652477644247162\n",
      "   Average number of concepts in useful questions: 2.541133455210238\n",
      "   Average number of concepts in not useful questions: 2.602409638554217\n",
      "\n",
      "### Are there statistically significant differences in the proportion of concepts per words in each question between both groups?\n"
     ]
    },
    {
     "name": "stderr",
     "output_type": "stream",
     "text": [
      "100%|██████████| 1094/1094 [00:00<00:00, 85000.25it/s]\n",
      "100%|██████████| 83/83 [00:00<00:00, 83105.09it/s]"
     ]
    },
    {
     "name": "stdout",
     "output_type": "stream",
     "text": [
      "No, there are not statistically significant differences HAVE NOT been found in the proportion of concepts per word in each question between the two groups\n",
      "   P-value = 0.518471208253287\n",
      "   Average proportion of concepts per words in useful questions: 0.2236398953353267\n",
      "   Average proportion of concepts per words in not_useful questions: 0.21909469511886853\n"
     ]
    },
    {
     "name": "stderr",
     "output_type": "stream",
     "text": [
      "\n"
     ]
    }
   ],
   "source": [
    "print(\"### Are there statistically significant differences in the number of words in the questions of each group?\")\n",
    "diff_number_words_per_question(sets, sets_name)\n",
    "print()\n",
    "print(\"### Are there statistically significant differences in the number of concepts in the questions of each group?\")\n",
    "strings_groups = diff_number_of_concepts_per_question(sets, sets_name)\n",
    "print()\n",
    "print(\"### Are there statistically significant differences in the proportion of concepts per words in each question between both groups?\")\n",
    "diff_prop_concepts_per_words(sets, sets_name)\n"
   ]
  },
  {
   "cell_type": "code",
   "execution_count": 6,
   "metadata": {},
   "outputs": [
    {
     "name": "stdout",
     "output_type": "stream",
     "text": [
      "### What are the most frequent concepts in each group?\n",
      "10 MORE FREQUENT CONCEPTS IN USEFUL QUESTIONS\n",
      "   Concept:   frequency\n",
      "  0.   year:     32\n",
      "  1.   Warsaw:     16\n",
      "  2.   Huguenots:     13\n",
      "  3.   people:     13\n",
      "  4.   University:     11\n",
      "  5.   Fresno:     10\n",
      "  6.   Rhine:     9\n",
      "  7.   Harvard:     9\n",
      "  8.   Jacksonville:     8\n",
      "  9.   Chicago:     8\n",
      "\n",
      "10 MORE FREQUENT CONCEPTS IN NOT USEFUL QUESTIONS\n",
      "   Concept:   frequency\n",
      "  0.   Virgin Media:     3\n",
      "  1.   Europe:     2\n",
      "  2.   Chicago:     2\n",
      "  3.   University:     2\n",
      "  4.   civil disobedience:     2\n",
      "  5.   percentage:     2\n",
      "  6.   people:     2\n",
      "  7.   Justice:     2\n",
      "  8.   Court:     2\n",
      "  9.   equal:     2\n"
     ]
    }
   ],
   "source": [
    "print(\"### What are the most frequent concepts in each group?\")\n",
    "cnt_useful, cnt_not_useful, all_strings_useful, all_strings_not_useful = most_frequent_concepts(strings_groups)\n",
    "n = 10\n",
    "\n",
    "print(f\"{n} MORE FREQUENT CONCEPTS IN USEFUL QUESTIONS\")\n",
    "print(f\"   Concept:   frequency\")\n",
    "for i in range(n):\n",
    "    concept = cnt_useful[i][0]\n",
    "    count = cnt_useful[i][1]\n",
    "    print(f\"  {i}.   {concept}:     {count}\")\n",
    "\n",
    "print()\n",
    "print(f\"{n} MORE FREQUENT CONCEPTS IN NOT USEFUL QUESTIONS\")\n",
    "print(f\"   Concept:   frequency\")\n",
    "for i in range(n):\n",
    "    concept = cnt_not_useful[i][0]\n",
    "    count = cnt_not_useful[i][1]\n",
    "    print(f\"  {i}.   {concept}:     {count}\")"
   ]
  },
  {
   "cell_type": "code",
   "execution_count": 7,
   "metadata": {},
   "outputs": [
    {
     "name": "stdout",
     "output_type": "stream",
     "text": [
      "### Are there statistically significant differences in the number of verbs in each question between both groups?\n"
     ]
    },
    {
     "name": "stderr",
     "output_type": "stream",
     "text": [
      "100%|██████████| 1094/1094 [00:00<00:00, 188048.38it/s]\n",
      "100%|██████████| 83/83 [00:00<00:00, 83006.02it/s]\n"
     ]
    },
    {
     "name": "stdout",
     "output_type": "stream",
     "text": [
      "No, there are not statistically significant differences in the number of VERBS in each question between the two groups\n",
      "   P-value = 0.5957902391911704\n",
      "   Average number of verbs in useful questions: 0.916819012797075 verbs\n",
      "   Average number of verbs in not useful questions: 0.963855421686747 verbs\n",
      "### Are there statistically significant differences in the proportion of verbs per words in each question between both groups?\n"
     ]
    },
    {
     "name": "stderr",
     "output_type": "stream",
     "text": [
      "100%|██████████| 1094/1094 [00:00<00:00, 109428.80it/s]\n",
      "100%|██████████| 83/83 [00:00<00:00, 83006.02it/s]"
     ]
    },
    {
     "name": "stdout",
     "output_type": "stream",
     "text": [
      "No, there are not Statistically significant differences in the proportion of VERBS per words in each question between the two groups\n",
      "   P-value = 0.9959409511514992\n",
      "   Average proportion of verbs per words in useful questions: 0.08221030882725852 verbs\n",
      "   Average proportion of verbs per words in not useful questions: 0.0821729517243029 verbs\n"
     ]
    },
    {
     "name": "stderr",
     "output_type": "stream",
     "text": [
      "\n"
     ]
    }
   ],
   "source": [
    "print(\"### Are there statistically significant differences in the number of verbs in each question between both groups?\")\n",
    "verbs_groups = diff_number_of_verbs(sets, sets_name)\n",
    "print(\"### Are there statistically significant differences in the proportion of verbs per words in each question between both groups?\")\n",
    "diff_prop_of_verbs(sets, sets_name)\n"
   ]
  },
  {
   "cell_type": "code",
   "execution_count": 8,
   "metadata": {},
   "outputs": [
    {
     "name": "stdout",
     "output_type": "stream",
     "text": [
      "### What are the most frequent verbs?\n",
      "10 MORE FREQUENT VERBS IN USEFUL QUESTIONS\n",
      "   Verb:   frequency      Proportion\n",
      "  0.   established:     18      0.01794616151545364\n",
      "  1.   located:     12      0.011964107676969093\n",
      "  2.   begin:     11      0.010967098703888335\n",
      "  3.   called:     11      0.010967098703888335\n",
      "  4.   built:     10      0.009970089730807577\n",
      "  5.   use:     9      0.00897308075772682\n",
      "  6.   known:     9      0.00897308075772682\n",
      "  7.   developed:     9      0.00897308075772682\n",
      "  8.   founded:     8      0.007976071784646061\n",
      "  9.   occur:     8      0.007976071784646061\n",
      "\n",
      "10 MORE FREQUENT VERBS IN NOT USEFUL QUESTIONS\n",
      "   Verb:   frequency      Proportion\n",
      "  0.   developed:     3      0.0375\n",
      "  1.   designed:     2      0.025\n",
      "  2.   defined:     2      0.025\n",
      "  3.   established:     2      0.025\n",
      "  4.   describe:     1      0.0125\n",
      "  5.   means:     1      0.0125\n",
      "  6.   apply:     1      0.0125\n",
      "  7.   dominated:     1      0.0125\n",
      "  8.   capture:     1      0.0125\n",
      "  9.   born:     1      0.0125\n"
     ]
    }
   ],
   "source": [
    "print(\"### What are the most frequent verbs?\")\n",
    "cnt_useful, cnt_not_useful, all_verbs_useful, all_verbs_not_useful = most_frequent_concepts(verbs_groups)\n",
    "n = 10\n",
    "\n",
    "print(f\"{n} MORE FREQUENT VERBS IN USEFUL QUESTIONS\")\n",
    "print(f\"   Verb:   frequency      Proportion\")\n",
    "for i in range(n):\n",
    "    verb = cnt_useful[i][0]\n",
    "    count = cnt_useful[i][1]\n",
    "    prop = cnt_useful[i][1] / len(all_verbs_useful)\n",
    "    print(f\"  {i}.   {verb}:     {count}      {prop}\")\n",
    "\n",
    "print()\n",
    "print(f\"{n} MORE FREQUENT VERBS IN NOT USEFUL QUESTIONS\")\n",
    "print(f\"   Verb:   frequency      Proportion\")\n",
    "for i in range(n):\n",
    "    verb = cnt_not_useful[i][0]\n",
    "    count = cnt_not_useful[i][1]\n",
    "    prop = cnt_not_useful[i][1] / len(all_verbs_not_useful)\n",
    "    print(f\"  {i}.   {verb}:     {count}      {prop}\")"
   ]
  },
  {
   "cell_type": "code",
   "execution_count": 9,
   "metadata": {},
   "outputs": [
    {
     "name": "stderr",
     "output_type": "stream",
     "text": [
      "100%|██████████| 1094/1094 [00:00<00:00, 1094079.30it/s]\n",
      "100%|██████████| 83/83 [00:00<?, ?it/s]\n"
     ]
    }
   ],
   "source": [
    "first_words = {}\n",
    "for set, name in zip(sets, sets_name):\n",
    "    pos_analysis = POS_analysis_object()\n",
    "    questions_pipeline = pos_analysis.nlp_pipeline(set[\"text\"].values)\n",
    "\n",
    "    first_word = []\n",
    "    for question in tqdm(questions_pipeline):\n",
    "        first_word.append(str(question[0]))\n",
    "    first_words[name] = first_word"
   ]
  },
  {
   "cell_type": "code",
   "execution_count": 10,
   "metadata": {},
   "outputs": [],
   "source": [
    "cnt = Counter()\n",
    "cnt_useful = Counter(first_words[\"useful\"])\n",
    "cnt_not_useful = Counter(first_words[\"not_useful\"])\n",
    "\n",
    "cnt_useful = sorted(cnt_useful.items(), key=lambda item: item[1])\n",
    "cnt_not_useful = sorted(cnt_not_useful.items(), key=lambda item: item[1])\n",
    "\n",
    "cnt_useful.reverse()\n",
    "cnt_not_useful.reverse()"
   ]
  },
  {
   "cell_type": "code",
   "execution_count": 11,
   "metadata": {},
   "outputs": [
    {
     "name": "stdout",
     "output_type": "stream",
     "text": [
      "10 MORE FREQUENT FIRST WORDS IN USEFUL QUESTIONS\n",
      "   Init word:   frequency      Proportion\n",
      "  0.   What:     462      0.42230347349177333\n",
      "  1.   When:     202      0.1846435100548446\n",
      "  2.   Who:     175      0.15996343692870202\n",
      "  3.   How:     130      0.11882998171846434\n",
      "  4.   In:     36      0.03290676416819013\n",
      "  5.   Where:     26      0.02376599634369287\n",
      "  6.   The:     18      0.016453382084095063\n",
      "  7.   According:     3      0.002742230347349177\n",
      "  8.   Private:     3      0.002742230347349177\n",
      "  9.   Which:     3      0.002742230347349177\n",
      "\n",
      "10 MORE FREQUENT FIRST WORDS IN NOT USEFUL QUESTIONS\n",
      "   Init word:   frequency      Proportion\n",
      "  0.   What:     42      0.5060240963855421\n",
      "  1.   When:     13      0.1566265060240964\n",
      "  2.   Who:     13      0.1566265060240964\n",
      "  3.   How:     7      0.08433734939759036\n",
      "  4.   In:     2      0.024096385542168676\n",
      "  5.   The:     1      0.012048192771084338\n",
      "  6.   Where:     1      0.012048192771084338\n",
      "  7.   By:     1      0.012048192771084338\n",
      "  8.   Competition:     1      0.012048192771084338\n",
      "  9.   Virgin:     1      0.012048192771084338\n"
     ]
    }
   ],
   "source": [
    "n = 10\n",
    "\n",
    "print(f\"{n} MORE FREQUENT FIRST WORDS IN USEFUL QUESTIONS\")\n",
    "print(f\"   Init word:   frequency      Proportion\")\n",
    "for i in range(n):\n",
    "    verb = cnt_useful[i][0]\n",
    "    count = cnt_useful[i][1]\n",
    "    prop = cnt_useful[i][1] / len(first_words[\"useful\"])\n",
    "    print(f\"  {i}.   {verb}:     {count}      {prop}\")\n",
    "\n",
    "print()\n",
    "print(f\"{n} MORE FREQUENT FIRST WORDS IN NOT USEFUL QUESTIONS\")\n",
    "print(f\"   Init word:   frequency      Proportion\")\n",
    "for i in range(n):\n",
    "    verb = cnt_not_useful[i][0]\n",
    "    count = cnt_not_useful[i][1]\n",
    "    prop = cnt_not_useful[i][1] / len(first_words[\"not_useful\"])\n",
    "    print(f\"  {i}.   {verb}:     {count}      {prop}\")"
   ]
  },
  {
   "cell_type": "code",
   "execution_count": null,
   "metadata": {},
   "outputs": [],
   "source": []
  }
 ],
 "metadata": {
  "kernelspec": {
   "display_name": "Python 3.8.13 ('ques_gen_env')",
   "language": "python",
   "name": "python3"
  },
  "language_info": {
   "codemirror_mode": {
    "name": "ipython",
    "version": 3
   },
   "file_extension": ".py",
   "mimetype": "text/x-python",
   "name": "python",
   "nbconvert_exporter": "python",
   "pygments_lexer": "ipython3",
   "version": "3.8.13"
  },
  "orig_nbformat": 4,
  "vscode": {
   "interpreter": {
    "hash": "bc601a73fdd21029cabb389f5777df311758dfa951f719b3a4a78b5169f7a217"
   }
  }
 },
 "nbformat": 4,
 "nbformat_minor": 2
}
