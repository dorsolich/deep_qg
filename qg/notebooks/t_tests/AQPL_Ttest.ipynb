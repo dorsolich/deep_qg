{
 "cells": [
  {
   "cell_type": "code",
   "execution_count": 1,
   "metadata": {},
   "outputs": [
    {
     "name": "stderr",
     "output_type": "stream",
     "text": [
      "c:\\Users\\DeboraOrsolich\\miniconda3\\envs\\ques_gen_env\\lib\\site-packages\\tqdm\\auto.py:22: TqdmWarning: IProgress not found. Please update jupyter and ipywidgets. See https://ipywidgets.readthedocs.io/en/stable/user_install.html\n",
      "  from .autonotebook import tqdm as notebook_tqdm\n"
     ]
    }
   ],
   "source": [
    "import notebook_hook\n",
    "import logging, sys\n",
    "logging.disable(sys.maxsize)\n",
    "import pathlib\n",
    "import json\n",
    "from tqdm import tqdm\n",
    "import pandas as pd\n",
    "from collections import Counter\n",
    "import numpy as np\n",
    "from qg.notebooks.t_tests.t_test_functions import (\n",
    "    count_tokens,\n",
    "    diff_number_words_per_question,\n",
    "    diff_number_of_concepts_per_question,\n",
    "    diff_prop_concepts_per_words,\n",
    "    most_frequent_concepts,\n",
    "    diff_number_of_verbs,\n",
    "    diff_prop_of_verbs,\n",
    ")\n",
    "\n",
    "from qg.results_analysis.objects.POSAnalysis import POS_analysis_object"
   ]
  },
  {
   "cell_type": "code",
   "execution_count": 2,
   "metadata": {},
   "outputs": [
    {
     "name": "stdout",
     "output_type": "stream",
     "text": [
      "Root directory: C:\\Users\\DeboraOrsolich\\Development\\question_generation_models\\deep_qg\\qg\n"
     ]
    }
   ],
   "source": [
    "ROOT_DIR = pathlib.Path().resolve().parents[1]\n",
    "print(f\"Root directory: {ROOT_DIR}\")"
   ]
  },
  {
   "cell_type": "code",
   "execution_count": 3,
   "metadata": {},
   "outputs": [],
   "source": [
    "model = \"AQPL\"\n",
    "with open(ROOT_DIR/f\"transformers_models/experiment_{model}/mapped_validation_questions.json\", encoding=\"utf-8\") as f:\n",
    "    questions_val = json.load(f)\n",
    "    pred_questions = questions_val[\"predictions\"]\n",
    "\n",
    "with open(ROOT_DIR/f\"transformers_models/experiment_{model}/classification_validation_questions.json\", encoding=\"utf-8\") as f:\n",
    "    pred_y = json.load(f)\n",
    "    pred_y = pred_y[\"pred_y\"]"
   ]
  },
  {
   "cell_type": "code",
   "execution_count": 4,
   "metadata": {},
   "outputs": [
    {
     "name": "stdout",
     "output_type": "stream",
     "text": [
      "1232 118\n"
     ]
    }
   ],
   "source": [
    "df = pd.DataFrame.from_dict({\"text\": pred_questions, \"labels\": pred_y})\n",
    "\n",
    "# preparing the data for the analysis...\n",
    "useful = df[df[\"labels\"]==1]\n",
    "not_useful = df[df[\"labels\"]==0]\n",
    "\n",
    "sets = [useful, not_useful]\n",
    "sets_name = [\"useful\", \"not_useful\"]\n",
    "print(len(sets[0]), len(sets[1]))\n"
   ]
  },
  {
   "cell_type": "code",
   "execution_count": 5,
   "metadata": {},
   "outputs": [
    {
     "name": "stdout",
     "output_type": "stream",
     "text": [
      "### Are there statistically significant differences in the number of words in the questions of each group?\n",
      "No, there are not statistically significant differences in the length of the questions between the two groups\n",
      "   P-value = 0.12467276960669016\n",
      "   Average length of useful questions 11.67775974025974 tokens\n",
      "   Average length of not_useful questions 10.923728813559322 tokens\n",
      "\n",
      "### Are there statistically significant differences in the number of concepts in the questions of each group?\n"
     ]
    },
    {
     "name": "stderr",
     "output_type": "stream",
     "text": [
      "100%|██████████| 1232/1232 [00:00<00:00, 60660.71it/s]\n",
      "100%|██████████| 118/118 [00:00<00:00, 60445.51it/s]\n"
     ]
    },
    {
     "name": "stdout",
     "output_type": "stream",
     "text": [
      "No, there are not statistically significant differences in the number of concepts in each question between the two groups\n",
      "   P-value = 0.13222071413002534\n",
      "   Average number of concepts in useful questions: 3.1314935064935066\n",
      "   Average number of concepts in not useful questions: 2.889830508474576\n",
      "\n",
      "### Are there statistically significant differences in the proportion of concepts per words in each question between both groups?\n"
     ]
    },
    {
     "name": "stderr",
     "output_type": "stream",
     "text": [
      "100%|██████████| 1232/1232 [00:00<00:00, 72468.73it/s]\n",
      "100%|██████████| 118/118 [00:00<00:00, 57960.87it/s]"
     ]
    },
    {
     "name": "stdout",
     "output_type": "stream",
     "text": [
      "No, there are not statistically significant differences HAVE NOT been found in the proportion of concepts per word in each question between the two groups\n",
      "   P-value = 0.2430872764542166\n",
      "   Average proportion of concepts per words in useful questions: 0.22992771017783972\n",
      "   Average proportion of concepts per words in not_useful questions: 0.22281046495034962\n"
     ]
    },
    {
     "name": "stderr",
     "output_type": "stream",
     "text": [
      "\n"
     ]
    }
   ],
   "source": [
    "print(\"### Are there statistically significant differences in the number of words in the questions of each group?\")\n",
    "diff_number_words_per_question(sets, sets_name)\n",
    "print()\n",
    "print(\"### Are there statistically significant differences in the number of concepts in the questions of each group?\")\n",
    "strings_groups = diff_number_of_concepts_per_question(sets, sets_name)\n",
    "print()\n",
    "print(\"### Are there statistically significant differences in the proportion of concepts per words in each question between both groups?\")\n",
    "diff_prop_concepts_per_words(sets, sets_name)\n"
   ]
  },
  {
   "cell_type": "code",
   "execution_count": 6,
   "metadata": {},
   "outputs": [
    {
     "name": "stdout",
     "output_type": "stream",
     "text": [
      "### What are the most frequent concepts in each group?\n",
      "10 MORE FREQUENT CONCEPTS IN USEFUL QUESTIONS\n",
      "   Concept:   frequency\n",
      "  0.   year:     43\n",
      "  1.   hl:     22\n",
      "  2.   Warsaw:     21\n",
      "  3.   type:     20\n",
      "  4.   h:     18\n",
      "  5.   Fresno:     16\n",
      "  6.   Huguenots:     15\n",
      "  7.   Victoria:     15\n",
      "  8.   people:     15\n",
      "  9.   University:     14\n",
      "\n",
      "10 MORE FREQUENT CONCEPTS IN NOT USEFUL QUESTIONS\n",
      "   Concept:   frequency\n",
      "  0.   year:     6\n",
      "  1.   hl:     5\n",
      "  2.   Warsaw:     3\n",
      "  3.   Rhine:     3\n",
      "  4.   type:     3\n",
      "  5.   income:     2\n",
      "  6.   Harvard:     2\n",
      "  7.   land:     2\n",
      "  8.   tuition:     2\n",
      "  9.   term:     2\n"
     ]
    }
   ],
   "source": [
    "print(\"### What are the most frequent concepts in each group?\")\n",
    "cnt_useful, cnt_not_useful, all_strings_useful, all_strings_not_useful = most_frequent_concepts(strings_groups)\n",
    "n = 10\n",
    "\n",
    "print(f\"{n} MORE FREQUENT CONCEPTS IN USEFUL QUESTIONS\")\n",
    "print(f\"   Concept:   frequency\")\n",
    "for i in range(n):\n",
    "    concept = cnt_useful[i][0]\n",
    "    count = cnt_useful[i][1]\n",
    "    print(f\"  {i}.   {concept}:     {count}\")\n",
    "\n",
    "print()\n",
    "print(f\"{n} MORE FREQUENT CONCEPTS IN NOT USEFUL QUESTIONS\")\n",
    "print(f\"   Concept:   frequency\")\n",
    "for i in range(n):\n",
    "    concept = cnt_not_useful[i][0]\n",
    "    count = cnt_not_useful[i][1]\n",
    "    print(f\"  {i}.   {concept}:     {count}\")"
   ]
  },
  {
   "cell_type": "code",
   "execution_count": 7,
   "metadata": {},
   "outputs": [
    {
     "name": "stdout",
     "output_type": "stream",
     "text": [
      "### Are there statistically significant differences in the number of verbs in each question between both groups?\n"
     ]
    },
    {
     "name": "stderr",
     "output_type": "stream",
     "text": [
      "100%|██████████| 1232/1232 [00:00<00:00, 136367.73it/s]\n",
      "100%|██████████| 118/118 [00:00<00:00, 114381.30it/s]\n"
     ]
    },
    {
     "name": "stdout",
     "output_type": "stream",
     "text": [
      "No, there are not statistically significant differences in the number of VERBS in each question between the two groups\n",
      "   P-value = 0.0578927080264915\n",
      "   Average number of verbs in useful questions: 1.021103896103896 verbs\n",
      "   Average number of verbs in not useful questions: 0.864406779661017 verbs\n",
      "### Are there statistically significant differences in the proportion of verbs per words in each question between both groups?\n"
     ]
    },
    {
     "name": "stderr",
     "output_type": "stream",
     "text": [
      "100%|██████████| 1232/1232 [00:00<00:00, 141200.75it/s]\n",
      "100%|██████████| 118/118 [00:00<00:00, 69395.38it/s]"
     ]
    },
    {
     "name": "stdout",
     "output_type": "stream",
     "text": [
      "No, there are not Statistically significant differences in the proportion of VERBS per words in each question between the two groups\n",
      "   P-value = 0.16726632763575155\n",
      "   Average proportion of verbs per words in useful questions: 0.07767426780443981 verbs\n",
      "   Average proportion of verbs per words in not useful questions: 0.06969291836613785 verbs\n"
     ]
    },
    {
     "name": "stderr",
     "output_type": "stream",
     "text": [
      "\n"
     ]
    }
   ],
   "source": [
    "print(\"### Are there statistically significant differences in the number of verbs in each question between both groups?\")\n",
    "verbs_groups = diff_number_of_verbs(sets, sets_name)\n",
    "print(\"### Are there statistically significant differences in the proportion of verbs per words in each question between both groups?\")\n",
    "diff_prop_of_verbs(sets, sets_name)\n"
   ]
  },
  {
   "cell_type": "code",
   "execution_count": 8,
   "metadata": {},
   "outputs": [
    {
     "name": "stdout",
     "output_type": "stream",
     "text": [
      "### What are the most frequent verbs?\n",
      "10 MORE FREQUENT VERBS IN USEFUL QUESTIONS\n",
      "   Verb:   frequency      Proportion\n",
      "  0.   known:     21      0.016693163751987282\n",
      "  1.   established:     18      0.014308426073131956\n",
      "  2.   developed:     15      0.01192368839427663\n",
      "  3.   introduced:     11      0.008744038155802861\n",
      "  4.   called:     11      0.008744038155802861\n",
      "  5.   given:     11      0.008744038155802861\n",
      "  6.   begin:     11      0.008744038155802861\n",
      "  7.   located:     10      0.00794912559618442\n",
      "  8.   operate:     9      0.007154213036565978\n",
      "  9.   based:     9      0.007154213036565978\n",
      "\n",
      "10 MORE FREQUENT VERBS IN NOT USEFUL QUESTIONS\n",
      "   Verb:   frequency      Proportion\n",
      "  0.   die:     3      0.029411764705882353\n",
      "  1.   lived:     3      0.029411764705882353\n",
      "  2.   created:     2      0.0196078431372549\n",
      "  3.   work:     2      0.0196078431372549\n",
      "  4.   hit:     2      0.0196078431372549\n",
      "  5.   established:     2      0.0196078431372549\n",
      "  6.   founded:     2      0.0196078431372549\n",
      "  7.   explain:     1      0.00980392156862745\n",
      "  8.   describe:     1      0.00980392156862745\n",
      "  9.   speaking:     1      0.00980392156862745\n"
     ]
    }
   ],
   "source": [
    "print(\"### What are the most frequent verbs?\")\n",
    "cnt_useful, cnt_not_useful, all_verbs_useful, all_verbs_not_useful = most_frequent_concepts(verbs_groups)\n",
    "n = 10\n",
    "\n",
    "print(f\"{n} MORE FREQUENT VERBS IN USEFUL QUESTIONS\")\n",
    "print(f\"   Verb:   frequency      Proportion\")\n",
    "for i in range(n):\n",
    "    verb = cnt_useful[i][0]\n",
    "    count = cnt_useful[i][1]\n",
    "    prop = cnt_useful[i][1] / len(all_verbs_useful)\n",
    "    print(f\"  {i}.   {verb}:     {count}      {prop}\")\n",
    "\n",
    "print()\n",
    "print(f\"{n} MORE FREQUENT VERBS IN NOT USEFUL QUESTIONS\")\n",
    "print(f\"   Verb:   frequency      Proportion\")\n",
    "for i in range(n):\n",
    "    verb = cnt_not_useful[i][0]\n",
    "    count = cnt_not_useful[i][1]\n",
    "    prop = cnt_not_useful[i][1] / len(all_verbs_not_useful)\n",
    "    print(f\"  {i}.   {verb}:     {count}      {prop}\")"
   ]
  },
  {
   "cell_type": "code",
   "execution_count": 9,
   "metadata": {},
   "outputs": [
    {
     "name": "stderr",
     "output_type": "stream",
     "text": [
      "100%|██████████| 1232/1232 [00:00<00:00, 617074.58it/s]\n",
      "100%|██████████| 118/118 [00:00<00:00, 117868.03it/s]\n"
     ]
    }
   ],
   "source": [
    "first_words = {}\n",
    "for set, name in zip(sets, sets_name):\n",
    "    pos_analysis = POS_analysis_object()\n",
    "    questions_pipeline = pos_analysis.nlp_pipeline(set[\"text\"].values)\n",
    "\n",
    "    first_word = []\n",
    "    for question in tqdm(questions_pipeline):\n",
    "        first_word.append(str(question[0]))\n",
    "    first_words[name] = first_word"
   ]
  },
  {
   "cell_type": "code",
   "execution_count": 10,
   "metadata": {},
   "outputs": [],
   "source": [
    "cnt = Counter()\n",
    "cnt_useful = Counter(first_words[\"useful\"])\n",
    "cnt_not_useful = Counter(first_words[\"not_useful\"])\n",
    "\n",
    "cnt_useful = sorted(cnt_useful.items(), key=lambda item: item[1])\n",
    "cnt_not_useful = sorted(cnt_not_useful.items(), key=lambda item: item[1])\n",
    "\n",
    "cnt_useful.reverse()\n",
    "cnt_not_useful.reverse()"
   ]
  },
  {
   "cell_type": "code",
   "execution_count": 11,
   "metadata": {},
   "outputs": [
    {
     "name": "stdout",
     "output_type": "stream",
     "text": [
      "10 MORE FREQUENT FIRST WORDS IN USEFUL QUESTIONS\n",
      "   Init word:   frequency      Proportion\n",
      "  0.   What:     577      0.46834415584415584\n",
      "  1.    :     152      0.12337662337662338\n",
      "  2.   Who:     141      0.11444805194805195\n",
      "  3.   When:     129      0.10470779220779221\n",
      "  4.   How:     119      0.09659090909090909\n",
      "  5.   In:     40      0.032467532467532464\n",
      "  6.   Where:     16      0.012987012987012988\n",
      "  7.   Which:     8      0.006493506493506494\n",
      "  8.   The:     8      0.006493506493506494\n",
      "  9.   the:     3      0.002435064935064935\n",
      "\n",
      "10 MORE FREQUENT FIRST WORDS IN NOT USEFUL QUESTIONS\n",
      "   Init word:   frequency      Proportion\n",
      "  0.   What:     49      0.4152542372881356\n",
      "  1.    :     23      0.19491525423728814\n",
      "  2.   Who:     14      0.11864406779661017\n",
      "  3.   How:     11      0.09322033898305085\n",
      "  4.   When:     9      0.07627118644067797\n",
      "  5.   In:     7      0.059322033898305086\n",
      "  6.   Where:     2      0.01694915254237288\n",
      "  7.   From:     1      0.00847457627118644\n",
      "  8.   Which:     1      0.00847457627118644\n",
      "  9.   Sky+:     1      0.00847457627118644\n"
     ]
    }
   ],
   "source": [
    "n = 10\n",
    "\n",
    "print(f\"{n} MORE FREQUENT FIRST WORDS IN USEFUL QUESTIONS\")\n",
    "print(f\"   Init word:   frequency      Proportion\")\n",
    "for i in range(n):\n",
    "    verb = cnt_useful[i][0]\n",
    "    count = cnt_useful[i][1]\n",
    "    prop = cnt_useful[i][1] / len(first_words[\"useful\"])\n",
    "    print(f\"  {i}.   {verb}:     {count}      {prop}\")\n",
    "\n",
    "print()\n",
    "print(f\"{n} MORE FREQUENT FIRST WORDS IN NOT USEFUL QUESTIONS\")\n",
    "print(f\"   Init word:   frequency      Proportion\")\n",
    "for i in range(n):\n",
    "    verb = cnt_not_useful[i][0]\n",
    "    count = cnt_not_useful[i][1]\n",
    "    prop = cnt_not_useful[i][1] / len(first_words[\"not_useful\"])\n",
    "    print(f\"  {i}.   {verb}:     {count}      {prop}\")"
   ]
  },
  {
   "cell_type": "code",
   "execution_count": null,
   "metadata": {},
   "outputs": [],
   "source": []
  }
 ],
 "metadata": {
  "kernelspec": {
   "display_name": "Python 3.8.13 ('ques_gen_env')",
   "language": "python",
   "name": "python3"
  },
  "language_info": {
   "codemirror_mode": {
    "name": "ipython",
    "version": 3
   },
   "file_extension": ".py",
   "mimetype": "text/x-python",
   "name": "python",
   "nbconvert_exporter": "python",
   "pygments_lexer": "ipython3",
   "version": "3.8.13"
  },
  "orig_nbformat": 4,
  "vscode": {
   "interpreter": {
    "hash": "bc601a73fdd21029cabb389f5777df311758dfa951f719b3a4a78b5169f7a217"
   }
  }
 },
 "nbformat": 4,
 "nbformat_minor": 2
}
