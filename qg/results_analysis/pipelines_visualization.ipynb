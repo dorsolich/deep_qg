{
 "cells": [
  {
   "cell_type": "code",
   "execution_count": 1,
   "metadata": {},
   "outputs": [],
   "source": [
    "from sklearn.pipeline import Pipeline\n",
    "from sklearn.preprocessing import StandardScaler\n",
    "from sklearn.linear_model import LogisticRegression\n",
    "from sklearn import set_config\n",
    "\n",
    "steps = [\n",
    "    (\"preprocessing\", StandardScaler()),\n",
    "    (\"classifier\", LogisticRegression()),\n",
    "]\n",
    "pipe = Pipeline(steps)"
   ]
  },
  {
   "cell_type": "code",
   "execution_count": 2,
   "metadata": {},
   "outputs": [
    {
     "data": {
      "text/html": [
       "<style>#sk-container-id-1 {color: black;background-color: white;}#sk-container-id-1 pre{padding: 0;}#sk-container-id-1 div.sk-toggleable {background-color: white;}#sk-container-id-1 label.sk-toggleable__label {cursor: pointer;display: block;width: 100%;margin-bottom: 0;padding: 0.3em;box-sizing: border-box;text-align: center;}#sk-container-id-1 label.sk-toggleable__label-arrow:before {content: \"▸\";float: left;margin-right: 0.25em;color: #696969;}#sk-container-id-1 label.sk-toggleable__label-arrow:hover:before {color: black;}#sk-container-id-1 div.sk-estimator:hover label.sk-toggleable__label-arrow:before {color: black;}#sk-container-id-1 div.sk-toggleable__content {max-height: 0;max-width: 0;overflow: hidden;text-align: left;background-color: #f0f8ff;}#sk-container-id-1 div.sk-toggleable__content pre {margin: 0.2em;color: black;border-radius: 0.25em;background-color: #f0f8ff;}#sk-container-id-1 input.sk-toggleable__control:checked~div.sk-toggleable__content {max-height: 200px;max-width: 100%;overflow: auto;}#sk-container-id-1 input.sk-toggleable__control:checked~label.sk-toggleable__label-arrow:before {content: \"▾\";}#sk-container-id-1 div.sk-estimator input.sk-toggleable__control:checked~label.sk-toggleable__label {background-color: #d4ebff;}#sk-container-id-1 div.sk-label input.sk-toggleable__control:checked~label.sk-toggleable__label {background-color: #d4ebff;}#sk-container-id-1 input.sk-hidden--visually {border: 0;clip: rect(1px 1px 1px 1px);clip: rect(1px, 1px, 1px, 1px);height: 1px;margin: -1px;overflow: hidden;padding: 0;position: absolute;width: 1px;}#sk-container-id-1 div.sk-estimator {font-family: monospace;background-color: #f0f8ff;border: 1px dotted black;border-radius: 0.25em;box-sizing: border-box;margin-bottom: 0.5em;}#sk-container-id-1 div.sk-estimator:hover {background-color: #d4ebff;}#sk-container-id-1 div.sk-parallel-item::after {content: \"\";width: 100%;border-bottom: 1px solid gray;flex-grow: 1;}#sk-container-id-1 div.sk-label:hover label.sk-toggleable__label {background-color: #d4ebff;}#sk-container-id-1 div.sk-serial::before {content: \"\";position: absolute;border-left: 1px solid gray;box-sizing: border-box;top: 0;bottom: 0;left: 50%;z-index: 0;}#sk-container-id-1 div.sk-serial {display: flex;flex-direction: column;align-items: center;background-color: white;padding-right: 0.2em;padding-left: 0.2em;position: relative;}#sk-container-id-1 div.sk-item {position: relative;z-index: 1;}#sk-container-id-1 div.sk-parallel {display: flex;align-items: stretch;justify-content: center;background-color: white;position: relative;}#sk-container-id-1 div.sk-item::before, #sk-container-id-1 div.sk-parallel-item::before {content: \"\";position: absolute;border-left: 1px solid gray;box-sizing: border-box;top: 0;bottom: 0;left: 50%;z-index: -1;}#sk-container-id-1 div.sk-parallel-item {display: flex;flex-direction: column;z-index: 1;position: relative;background-color: white;}#sk-container-id-1 div.sk-parallel-item:first-child::after {align-self: flex-end;width: 50%;}#sk-container-id-1 div.sk-parallel-item:last-child::after {align-self: flex-start;width: 50%;}#sk-container-id-1 div.sk-parallel-item:only-child::after {width: 0;}#sk-container-id-1 div.sk-dashed-wrapped {border: 1px dashed gray;margin: 0 0.4em 0.5em 0.4em;box-sizing: border-box;padding-bottom: 0.4em;background-color: white;}#sk-container-id-1 div.sk-label label {font-family: monospace;font-weight: bold;display: inline-block;line-height: 1.2em;}#sk-container-id-1 div.sk-label-container {text-align: center;}#sk-container-id-1 div.sk-container {/* jupyter's `normalize.less` sets `[hidden] { display: none; }` but bootstrap.min.css set `[hidden] { display: none !important; }` so we also need the `!important` here to be able to override the default hidden behavior on the sphinx rendered scikit-learn.org. See: https://github.com/scikit-learn/scikit-learn/issues/21755 */display: inline-block !important;position: relative;}#sk-container-id-1 div.sk-text-repr-fallback {display: none;}</style><div id=\"sk-container-id-1\" class=\"sk-top-container\"><div class=\"sk-text-repr-fallback\"><pre>Pipeline(steps=[(&#x27;preprocessing&#x27;, StandardScaler()),\n",
       "                (&#x27;classifier&#x27;, LogisticRegression())])</pre><b>In a Jupyter environment, please rerun this cell to show the HTML representation or trust the notebook. <br />On GitHub, the HTML representation is unable to render, please try loading this page with nbviewer.org.</b></div><div class=\"sk-container\" hidden><div class=\"sk-item sk-dashed-wrapped\"><div class=\"sk-label-container\"><div class=\"sk-label sk-toggleable\"><input class=\"sk-toggleable__control sk-hidden--visually\" id=\"sk-estimator-id-1\" type=\"checkbox\" ><label for=\"sk-estimator-id-1\" class=\"sk-toggleable__label sk-toggleable__label-arrow\">Pipeline</label><div class=\"sk-toggleable__content\"><pre>Pipeline(steps=[(&#x27;preprocessing&#x27;, StandardScaler()),\n",
       "                (&#x27;classifier&#x27;, LogisticRegression())])</pre></div></div></div><div class=\"sk-serial\"><div class=\"sk-item\"><div class=\"sk-estimator sk-toggleable\"><input class=\"sk-toggleable__control sk-hidden--visually\" id=\"sk-estimator-id-2\" type=\"checkbox\" ><label for=\"sk-estimator-id-2\" class=\"sk-toggleable__label sk-toggleable__label-arrow\">StandardScaler</label><div class=\"sk-toggleable__content\"><pre>StandardScaler()</pre></div></div></div><div class=\"sk-item\"><div class=\"sk-estimator sk-toggleable\"><input class=\"sk-toggleable__control sk-hidden--visually\" id=\"sk-estimator-id-3\" type=\"checkbox\" ><label for=\"sk-estimator-id-3\" class=\"sk-toggleable__label sk-toggleable__label-arrow\">LogisticRegression</label><div class=\"sk-toggleable__content\"><pre>LogisticRegression()</pre></div></div></div></div></div></div></div>"
      ],
      "text/plain": [
       "Pipeline(steps=[('preprocessing', StandardScaler()),\n",
       "                ('classifier', LogisticRegression())])"
      ]
     },
     "execution_count": 2,
     "metadata": {},
     "output_type": "execute_result"
    }
   ],
   "source": [
    "set_config(display=\"diagram\")\n",
    "pipe "
   ]
  },
  {
   "cell_type": "code",
   "execution_count": 3,
   "metadata": {},
   "outputs": [],
   "source": [
    "class DatasetUploader():\n",
    "    pass\n",
    "\n",
    "class PreTrainedTokenizerDownloader():\n",
    "    pass\n",
    "\n",
    "class Encoder():\n",
    "    pass\n",
    "\n",
    "class DataLoaderComponent():\n",
    "    pass\n",
    "\n",
    "class PreTrainedModelDownloader():\n",
    "    pass\n",
    "\n",
    "class Trainer():\n",
    "    pass\n",
    "\n",
    "class TrainedModelUploader():\n",
    "    pass\n",
    "\n",
    "class ModelValidator():\n",
    "    pass"
   ]
  },
  {
   "cell_type": "code",
   "execution_count": 4,
   "metadata": {},
   "outputs": [],
   "source": [
    "### cls trainer\n",
    "\n",
    "cls_training_pipeline = Pipeline(\n",
    "    [\n",
    "        (\n",
    "            \"DatasetUploader\",\n",
    "            DatasetUploader(),\n",
    "        ),\n",
    "        (\n",
    "            \"PreTrainedTokenizerDownloader\",\n",
    "            PreTrainedTokenizerDownloader()\n",
    "        ),\n",
    "        (\n",
    "            \"Encoder\",\n",
    "            Encoder()\n",
    "        ),\n",
    "        (\n",
    "            \"DataLoaderComponent\",\n",
    "            DataLoaderComponent()\n",
    "        ),\n",
    "        (\n",
    "            \"PreTrainedModelDownloader\",\n",
    "            PreTrainedModelDownloader()\n",
    "        ),\n",
    "        (\n",
    "            \"Trainer\",\n",
    "            Trainer()\n",
    "        ),\n",
    "    ]\n",
    ")\n",
    "\n",
    "set_config(display=\"diagram\") "
   ]
  },
  {
   "cell_type": "code",
   "execution_count": 5,
   "metadata": {},
   "outputs": [],
   "source": [
    "### cls validation\n",
    "cls_validation_pipeline = Pipeline(\n",
    "    [\n",
    "        (\n",
    "            \"DatasetUploader\",\n",
    "            DatasetUploader(),\n",
    "        ),\n",
    "        (\n",
    "            \"PreTrainedTokenizerDownloader\",\n",
    "            PreTrainedTokenizerDownloader()\n",
    "        ),\n",
    "        (\n",
    "            \"Encoder\",\n",
    "            Encoder()\n",
    "        ),\n",
    "        (\n",
    "            \"DataLoaderComponent\",\n",
    "            DataLoaderComponent()\n",
    "        ),\n",
    "        (\n",
    "            \"TrainedModelUploader\",\n",
    "            TrainedModelUploader()\n",
    "        ),\n",
    "        (\n",
    "            \"ModelValidator\",\n",
    "            ModelValidator()\n",
    "        )\n",
    "    ]\n",
    ")"
   ]
  },
  {
   "cell_type": "code",
   "execution_count": 6,
   "metadata": {},
   "outputs": [],
   "source": [
    "class DataProcessor():\n",
    "    pass\n",
    "\n",
    "qg_training_pipeline = Pipeline(\n",
    "    [\n",
    "        (\n",
    "            \"DatasetUploader\",\n",
    "            DatasetUploader(),\n",
    "        ),\n",
    "        (\n",
    "            \"DataProcessor\",\n",
    "            DataProcessor()\n",
    "        ),\n",
    "        (\n",
    "            \"PreTrainedTokenizerDownloader\",\n",
    "            PreTrainedTokenizerDownloader()\n",
    "        ),\n",
    "        (\n",
    "            \"Encoder\",\n",
    "            Encoder()\n",
    "        ),\n",
    "        (\n",
    "            \"DataLoaderComponent\",\n",
    "            DataLoaderComponent()\n",
    "        ),\n",
    "        (\n",
    "            \"PreTrainedModelUploader\",\n",
    "            PreTrainedModelDownloader()\n",
    "        ),\n",
    "        (\n",
    "            \"Trainer\",\n",
    "            Trainer()\n",
    "\n",
    "        ),\n",
    "    ]\n",
    ")"
   ]
  },
  {
   "cell_type": "code",
   "execution_count": 7,
   "metadata": {},
   "outputs": [],
   "source": [
    "class Decoder:\n",
    "    pass\n",
    "qg_decoder_pipeline = Pipeline(\n",
    "    [\n",
    "        (\n",
    "            \"DatasetUploader\",\n",
    "            DatasetUploader(),\n",
    "        ),\n",
    "        (\n",
    "            \"PreTrainedTokenizerDownloader\",\n",
    "            PreTrainedTokenizerDownloader()\n",
    "        ),\n",
    "        (\n",
    "            \"TrainedModelUploader\",\n",
    "            TrainedModelUploader()\n",
    "        ),\n",
    "        (\n",
    "            \"Decoder\",\n",
    "            Decoder()\n",
    "        )\n",
    "    ]\n",
    ")"
   ]
  },
  {
   "cell_type": "code",
   "execution_count": 8,
   "metadata": {},
   "outputs": [],
   "source": [
    "class QuestionsMapperAndSimilarity:\n",
    "    pass\n",
    "\n",
    "class QuestionsMetrics:\n",
    "    pass\n",
    "questions_validation_pipeline = Pipeline(\n",
    "    [\n",
    "        (\n",
    "            \"QuestionsMapperAndSimilarity\",\n",
    "            QuestionsMapperAndSimilarity()\n",
    "        ),\n",
    "        (\n",
    "            \"QuestionsMetrics\",\n",
    "            QuestionsMetrics()\n",
    "\n",
    "        )\n",
    "    ]\n",
    ")"
   ]
  },
  {
   "cell_type": "code",
   "execution_count": 9,
   "metadata": {},
   "outputs": [],
   "source": [
    "class QuestionsClassifier:\n",
    "    pass\n",
    "questions_classification_pipeline = Pipeline(\n",
    "    [\n",
    "        (\n",
    "            \"DatasetUploader\",\n",
    "            DatasetUploader(),\n",
    "        ),\n",
    "        (\n",
    "            \"PreTrainedTokenizerDownloader\",\n",
    "            PreTrainedTokenizerDownloader()\n",
    "        ),\n",
    "        (\n",
    "            \"Encoder\",\n",
    "            Encoder()\n",
    "        ),\n",
    "        (\n",
    "            \"DataLoaderComponent\",\n",
    "            DataLoaderComponent()\n",
    "        ),\n",
    "        (\n",
    "            \"TrainedModelUploader\",\n",
    "            TrainedModelUploader()\n",
    "        ),\n",
    "        (\n",
    "            \"QuestionsClassifier\",\n",
    "            QuestionsClassifier()\n",
    "        )\n",
    "    ]\n",
    ")"
   ]
  },
  {
   "cell_type": "code",
   "execution_count": 10,
   "metadata": {},
   "outputs": [
    {
     "data": {
      "text/html": [
       "<style>#sk-container-id-2 {color: black;background-color: white;}#sk-container-id-2 pre{padding: 0;}#sk-container-id-2 div.sk-toggleable {background-color: white;}#sk-container-id-2 label.sk-toggleable__label {cursor: pointer;display: block;width: 100%;margin-bottom: 0;padding: 0.3em;box-sizing: border-box;text-align: center;}#sk-container-id-2 label.sk-toggleable__label-arrow:before {content: \"▸\";float: left;margin-right: 0.25em;color: #696969;}#sk-container-id-2 label.sk-toggleable__label-arrow:hover:before {color: black;}#sk-container-id-2 div.sk-estimator:hover label.sk-toggleable__label-arrow:before {color: black;}#sk-container-id-2 div.sk-toggleable__content {max-height: 0;max-width: 0;overflow: hidden;text-align: left;background-color: #f0f8ff;}#sk-container-id-2 div.sk-toggleable__content pre {margin: 0.2em;color: black;border-radius: 0.25em;background-color: #f0f8ff;}#sk-container-id-2 input.sk-toggleable__control:checked~div.sk-toggleable__content {max-height: 200px;max-width: 100%;overflow: auto;}#sk-container-id-2 input.sk-toggleable__control:checked~label.sk-toggleable__label-arrow:before {content: \"▾\";}#sk-container-id-2 div.sk-estimator input.sk-toggleable__control:checked~label.sk-toggleable__label {background-color: #d4ebff;}#sk-container-id-2 div.sk-label input.sk-toggleable__control:checked~label.sk-toggleable__label {background-color: #d4ebff;}#sk-container-id-2 input.sk-hidden--visually {border: 0;clip: rect(1px 1px 1px 1px);clip: rect(1px, 1px, 1px, 1px);height: 1px;margin: -1px;overflow: hidden;padding: 0;position: absolute;width: 1px;}#sk-container-id-2 div.sk-estimator {font-family: monospace;background-color: #f0f8ff;border: 1px dotted black;border-radius: 0.25em;box-sizing: border-box;margin-bottom: 0.5em;}#sk-container-id-2 div.sk-estimator:hover {background-color: #d4ebff;}#sk-container-id-2 div.sk-parallel-item::after {content: \"\";width: 100%;border-bottom: 1px solid gray;flex-grow: 1;}#sk-container-id-2 div.sk-label:hover label.sk-toggleable__label {background-color: #d4ebff;}#sk-container-id-2 div.sk-serial::before {content: \"\";position: absolute;border-left: 1px solid gray;box-sizing: border-box;top: 0;bottom: 0;left: 50%;z-index: 0;}#sk-container-id-2 div.sk-serial {display: flex;flex-direction: column;align-items: center;background-color: white;padding-right: 0.2em;padding-left: 0.2em;position: relative;}#sk-container-id-2 div.sk-item {position: relative;z-index: 1;}#sk-container-id-2 div.sk-parallel {display: flex;align-items: stretch;justify-content: center;background-color: white;position: relative;}#sk-container-id-2 div.sk-item::before, #sk-container-id-2 div.sk-parallel-item::before {content: \"\";position: absolute;border-left: 1px solid gray;box-sizing: border-box;top: 0;bottom: 0;left: 50%;z-index: -1;}#sk-container-id-2 div.sk-parallel-item {display: flex;flex-direction: column;z-index: 1;position: relative;background-color: white;}#sk-container-id-2 div.sk-parallel-item:first-child::after {align-self: flex-end;width: 50%;}#sk-container-id-2 div.sk-parallel-item:last-child::after {align-self: flex-start;width: 50%;}#sk-container-id-2 div.sk-parallel-item:only-child::after {width: 0;}#sk-container-id-2 div.sk-dashed-wrapped {border: 1px dashed gray;margin: 0 0.4em 0.5em 0.4em;box-sizing: border-box;padding-bottom: 0.4em;background-color: white;}#sk-container-id-2 div.sk-label label {font-family: monospace;font-weight: bold;display: inline-block;line-height: 1.2em;}#sk-container-id-2 div.sk-label-container {text-align: center;}#sk-container-id-2 div.sk-container {/* jupyter's `normalize.less` sets `[hidden] { display: none; }` but bootstrap.min.css set `[hidden] { display: none !important; }` so we also need the `!important` here to be able to override the default hidden behavior on the sphinx rendered scikit-learn.org. See: https://github.com/scikit-learn/scikit-learn/issues/21755 */display: inline-block !important;position: relative;}#sk-container-id-2 div.sk-text-repr-fallback {display: none;}</style><div id=\"sk-container-id-2\" class=\"sk-top-container\"><div class=\"sk-text-repr-fallback\"><pre>Pipeline(steps=[(&#x27;DatasetUploader&#x27;,\n",
       "                 &lt;__main__.DatasetUploader object at 0x00000238CCA6DBB0&gt;),\n",
       "                (&#x27;PreTrainedTokenizerDownloader&#x27;,\n",
       "                 &lt;__main__.PreTrainedTokenizerDownloader object at 0x00000238CCA6DBE0&gt;),\n",
       "                (&#x27;Encoder&#x27;, &lt;__main__.Encoder object at 0x00000238CCA6DC10&gt;),\n",
       "                (&#x27;DataLoaderComponent&#x27;,\n",
       "                 &lt;__main__.DataLoaderComponent object at 0x00000238CCA6DC70&gt;),\n",
       "                (&#x27;PreTrainedModelDownloader&#x27;,\n",
       "                 &lt;__main__.PreTrainedModelDownloader object at 0x00000238CCA6DCA0&gt;),\n",
       "                (&#x27;Trainer&#x27;, &lt;__main__.Trainer object at 0x00000238CCA6DCD0&gt;)])</pre><b>In a Jupyter environment, please rerun this cell to show the HTML representation or trust the notebook. <br />On GitHub, the HTML representation is unable to render, please try loading this page with nbviewer.org.</b></div><div class=\"sk-container\" hidden><div class=\"sk-item sk-dashed-wrapped\"><div class=\"sk-label-container\"><div class=\"sk-label sk-toggleable\"><input class=\"sk-toggleable__control sk-hidden--visually\" id=\"sk-estimator-id-4\" type=\"checkbox\" ><label for=\"sk-estimator-id-4\" class=\"sk-toggleable__label sk-toggleable__label-arrow\">Pipeline</label><div class=\"sk-toggleable__content\"><pre>Pipeline(steps=[(&#x27;DatasetUploader&#x27;,\n",
       "                 &lt;__main__.DatasetUploader object at 0x00000238CCA6DBB0&gt;),\n",
       "                (&#x27;PreTrainedTokenizerDownloader&#x27;,\n",
       "                 &lt;__main__.PreTrainedTokenizerDownloader object at 0x00000238CCA6DBE0&gt;),\n",
       "                (&#x27;Encoder&#x27;, &lt;__main__.Encoder object at 0x00000238CCA6DC10&gt;),\n",
       "                (&#x27;DataLoaderComponent&#x27;,\n",
       "                 &lt;__main__.DataLoaderComponent object at 0x00000238CCA6DC70&gt;),\n",
       "                (&#x27;PreTrainedModelDownloader&#x27;,\n",
       "                 &lt;__main__.PreTrainedModelDownloader object at 0x00000238CCA6DCA0&gt;),\n",
       "                (&#x27;Trainer&#x27;, &lt;__main__.Trainer object at 0x00000238CCA6DCD0&gt;)])</pre></div></div></div><div class=\"sk-serial\"><div class=\"sk-item\"><div class=\"sk-estimator sk-toggleable\"><input class=\"sk-toggleable__control sk-hidden--visually\" id=\"sk-estimator-id-5\" type=\"checkbox\" ><label for=\"sk-estimator-id-5\" class=\"sk-toggleable__label sk-toggleable__label-arrow\">DatasetUploader</label><div class=\"sk-toggleable__content\"><pre>&lt;__main__.DatasetUploader object at 0x00000238CCA6DBB0&gt;</pre></div></div></div><div class=\"sk-item\"><div class=\"sk-estimator sk-toggleable\"><input class=\"sk-toggleable__control sk-hidden--visually\" id=\"sk-estimator-id-6\" type=\"checkbox\" ><label for=\"sk-estimator-id-6\" class=\"sk-toggleable__label sk-toggleable__label-arrow\">PreTrainedTokenizerDownloader</label><div class=\"sk-toggleable__content\"><pre>&lt;__main__.PreTrainedTokenizerDownloader object at 0x00000238CCA6DBE0&gt;</pre></div></div></div><div class=\"sk-item\"><div class=\"sk-estimator sk-toggleable\"><input class=\"sk-toggleable__control sk-hidden--visually\" id=\"sk-estimator-id-7\" type=\"checkbox\" ><label for=\"sk-estimator-id-7\" class=\"sk-toggleable__label sk-toggleable__label-arrow\">Encoder</label><div class=\"sk-toggleable__content\"><pre>&lt;__main__.Encoder object at 0x00000238CCA6DC10&gt;</pre></div></div></div><div class=\"sk-item\"><div class=\"sk-estimator sk-toggleable\"><input class=\"sk-toggleable__control sk-hidden--visually\" id=\"sk-estimator-id-8\" type=\"checkbox\" ><label for=\"sk-estimator-id-8\" class=\"sk-toggleable__label sk-toggleable__label-arrow\">DataLoaderComponent</label><div class=\"sk-toggleable__content\"><pre>&lt;__main__.DataLoaderComponent object at 0x00000238CCA6DC70&gt;</pre></div></div></div><div class=\"sk-item\"><div class=\"sk-estimator sk-toggleable\"><input class=\"sk-toggleable__control sk-hidden--visually\" id=\"sk-estimator-id-9\" type=\"checkbox\" ><label for=\"sk-estimator-id-9\" class=\"sk-toggleable__label sk-toggleable__label-arrow\">PreTrainedModelDownloader</label><div class=\"sk-toggleable__content\"><pre>&lt;__main__.PreTrainedModelDownloader object at 0x00000238CCA6DCA0&gt;</pre></div></div></div><div class=\"sk-item\"><div class=\"sk-estimator sk-toggleable\"><input class=\"sk-toggleable__control sk-hidden--visually\" id=\"sk-estimator-id-10\" type=\"checkbox\" ><label for=\"sk-estimator-id-10\" class=\"sk-toggleable__label sk-toggleable__label-arrow\">Trainer</label><div class=\"sk-toggleable__content\"><pre>&lt;__main__.Trainer object at 0x00000238CCA6DCD0&gt;</pre></div></div></div></div></div></div></div>"
      ],
      "text/plain": [
       "Pipeline(steps=[('DatasetUploader',\n",
       "                 <__main__.DatasetUploader object at 0x00000238CCA6DBB0>),\n",
       "                ('PreTrainedTokenizerDownloader',\n",
       "                 <__main__.PreTrainedTokenizerDownloader object at 0x00000238CCA6DBE0>),\n",
       "                ('Encoder', <__main__.Encoder object at 0x00000238CCA6DC10>),\n",
       "                ('DataLoaderComponent',\n",
       "                 <__main__.DataLoaderComponent object at 0x00000238CCA6DC70>),\n",
       "                ('PreTrainedModelDownloader',\n",
       "                 <__main__.PreTrainedModelDownloader object at 0x00000238CCA6DCA0>),\n",
       "                ('Trainer', <__main__.Trainer object at 0x00000238CCA6DCD0>)])"
      ]
     },
     "execution_count": 10,
     "metadata": {},
     "output_type": "execute_result"
    }
   ],
   "source": [
    "cls_training_pipeline"
   ]
  },
  {
   "cell_type": "code",
   "execution_count": 11,
   "metadata": {},
   "outputs": [
    {
     "data": {
      "text/html": [
       "<style>#sk-container-id-3 {color: black;background-color: white;}#sk-container-id-3 pre{padding: 0;}#sk-container-id-3 div.sk-toggleable {background-color: white;}#sk-container-id-3 label.sk-toggleable__label {cursor: pointer;display: block;width: 100%;margin-bottom: 0;padding: 0.3em;box-sizing: border-box;text-align: center;}#sk-container-id-3 label.sk-toggleable__label-arrow:before {content: \"▸\";float: left;margin-right: 0.25em;color: #696969;}#sk-container-id-3 label.sk-toggleable__label-arrow:hover:before {color: black;}#sk-container-id-3 div.sk-estimator:hover label.sk-toggleable__label-arrow:before {color: black;}#sk-container-id-3 div.sk-toggleable__content {max-height: 0;max-width: 0;overflow: hidden;text-align: left;background-color: #f0f8ff;}#sk-container-id-3 div.sk-toggleable__content pre {margin: 0.2em;color: black;border-radius: 0.25em;background-color: #f0f8ff;}#sk-container-id-3 input.sk-toggleable__control:checked~div.sk-toggleable__content {max-height: 200px;max-width: 100%;overflow: auto;}#sk-container-id-3 input.sk-toggleable__control:checked~label.sk-toggleable__label-arrow:before {content: \"▾\";}#sk-container-id-3 div.sk-estimator input.sk-toggleable__control:checked~label.sk-toggleable__label {background-color: #d4ebff;}#sk-container-id-3 div.sk-label input.sk-toggleable__control:checked~label.sk-toggleable__label {background-color: #d4ebff;}#sk-container-id-3 input.sk-hidden--visually {border: 0;clip: rect(1px 1px 1px 1px);clip: rect(1px, 1px, 1px, 1px);height: 1px;margin: -1px;overflow: hidden;padding: 0;position: absolute;width: 1px;}#sk-container-id-3 div.sk-estimator {font-family: monospace;background-color: #f0f8ff;border: 1px dotted black;border-radius: 0.25em;box-sizing: border-box;margin-bottom: 0.5em;}#sk-container-id-3 div.sk-estimator:hover {background-color: #d4ebff;}#sk-container-id-3 div.sk-parallel-item::after {content: \"\";width: 100%;border-bottom: 1px solid gray;flex-grow: 1;}#sk-container-id-3 div.sk-label:hover label.sk-toggleable__label {background-color: #d4ebff;}#sk-container-id-3 div.sk-serial::before {content: \"\";position: absolute;border-left: 1px solid gray;box-sizing: border-box;top: 0;bottom: 0;left: 50%;z-index: 0;}#sk-container-id-3 div.sk-serial {display: flex;flex-direction: column;align-items: center;background-color: white;padding-right: 0.2em;padding-left: 0.2em;position: relative;}#sk-container-id-3 div.sk-item {position: relative;z-index: 1;}#sk-container-id-3 div.sk-parallel {display: flex;align-items: stretch;justify-content: center;background-color: white;position: relative;}#sk-container-id-3 div.sk-item::before, #sk-container-id-3 div.sk-parallel-item::before {content: \"\";position: absolute;border-left: 1px solid gray;box-sizing: border-box;top: 0;bottom: 0;left: 50%;z-index: -1;}#sk-container-id-3 div.sk-parallel-item {display: flex;flex-direction: column;z-index: 1;position: relative;background-color: white;}#sk-container-id-3 div.sk-parallel-item:first-child::after {align-self: flex-end;width: 50%;}#sk-container-id-3 div.sk-parallel-item:last-child::after {align-self: flex-start;width: 50%;}#sk-container-id-3 div.sk-parallel-item:only-child::after {width: 0;}#sk-container-id-3 div.sk-dashed-wrapped {border: 1px dashed gray;margin: 0 0.4em 0.5em 0.4em;box-sizing: border-box;padding-bottom: 0.4em;background-color: white;}#sk-container-id-3 div.sk-label label {font-family: monospace;font-weight: bold;display: inline-block;line-height: 1.2em;}#sk-container-id-3 div.sk-label-container {text-align: center;}#sk-container-id-3 div.sk-container {/* jupyter's `normalize.less` sets `[hidden] { display: none; }` but bootstrap.min.css set `[hidden] { display: none !important; }` so we also need the `!important` here to be able to override the default hidden behavior on the sphinx rendered scikit-learn.org. See: https://github.com/scikit-learn/scikit-learn/issues/21755 */display: inline-block !important;position: relative;}#sk-container-id-3 div.sk-text-repr-fallback {display: none;}</style><div id=\"sk-container-id-3\" class=\"sk-top-container\"><div class=\"sk-text-repr-fallback\"><pre>Pipeline(steps=[(&#x27;DatasetUploader&#x27;,\n",
       "                 &lt;__main__.DatasetUploader object at 0x00000238CCA6DF10&gt;),\n",
       "                (&#x27;PreTrainedTokenizerDownloader&#x27;,\n",
       "                 &lt;__main__.PreTrainedTokenizerDownloader object at 0x00000238CCA6DD90&gt;),\n",
       "                (&#x27;Encoder&#x27;, &lt;__main__.Encoder object at 0x00000238CCA6DB20&gt;),\n",
       "                (&#x27;DataLoaderComponent&#x27;,\n",
       "                 &lt;__main__.DataLoaderComponent object at 0x00000238CCA6DDF0&gt;),\n",
       "                (&#x27;TrainedModelUploader&#x27;,\n",
       "                 &lt;__main__.TrainedModelUploader object at 0x00000238CCA6DB50&gt;),\n",
       "                (&#x27;ModelValidator&#x27;,\n",
       "                 &lt;__main__.ModelValidator object at 0x00000238CCA6DB80&gt;)])</pre><b>In a Jupyter environment, please rerun this cell to show the HTML representation or trust the notebook. <br />On GitHub, the HTML representation is unable to render, please try loading this page with nbviewer.org.</b></div><div class=\"sk-container\" hidden><div class=\"sk-item sk-dashed-wrapped\"><div class=\"sk-label-container\"><div class=\"sk-label sk-toggleable\"><input class=\"sk-toggleable__control sk-hidden--visually\" id=\"sk-estimator-id-11\" type=\"checkbox\" ><label for=\"sk-estimator-id-11\" class=\"sk-toggleable__label sk-toggleable__label-arrow\">Pipeline</label><div class=\"sk-toggleable__content\"><pre>Pipeline(steps=[(&#x27;DatasetUploader&#x27;,\n",
       "                 &lt;__main__.DatasetUploader object at 0x00000238CCA6DF10&gt;),\n",
       "                (&#x27;PreTrainedTokenizerDownloader&#x27;,\n",
       "                 &lt;__main__.PreTrainedTokenizerDownloader object at 0x00000238CCA6DD90&gt;),\n",
       "                (&#x27;Encoder&#x27;, &lt;__main__.Encoder object at 0x00000238CCA6DB20&gt;),\n",
       "                (&#x27;DataLoaderComponent&#x27;,\n",
       "                 &lt;__main__.DataLoaderComponent object at 0x00000238CCA6DDF0&gt;),\n",
       "                (&#x27;TrainedModelUploader&#x27;,\n",
       "                 &lt;__main__.TrainedModelUploader object at 0x00000238CCA6DB50&gt;),\n",
       "                (&#x27;ModelValidator&#x27;,\n",
       "                 &lt;__main__.ModelValidator object at 0x00000238CCA6DB80&gt;)])</pre></div></div></div><div class=\"sk-serial\"><div class=\"sk-item\"><div class=\"sk-estimator sk-toggleable\"><input class=\"sk-toggleable__control sk-hidden--visually\" id=\"sk-estimator-id-12\" type=\"checkbox\" ><label for=\"sk-estimator-id-12\" class=\"sk-toggleable__label sk-toggleable__label-arrow\">DatasetUploader</label><div class=\"sk-toggleable__content\"><pre>&lt;__main__.DatasetUploader object at 0x00000238CCA6DF10&gt;</pre></div></div></div><div class=\"sk-item\"><div class=\"sk-estimator sk-toggleable\"><input class=\"sk-toggleable__control sk-hidden--visually\" id=\"sk-estimator-id-13\" type=\"checkbox\" ><label for=\"sk-estimator-id-13\" class=\"sk-toggleable__label sk-toggleable__label-arrow\">PreTrainedTokenizerDownloader</label><div class=\"sk-toggleable__content\"><pre>&lt;__main__.PreTrainedTokenizerDownloader object at 0x00000238CCA6DD90&gt;</pre></div></div></div><div class=\"sk-item\"><div class=\"sk-estimator sk-toggleable\"><input class=\"sk-toggleable__control sk-hidden--visually\" id=\"sk-estimator-id-14\" type=\"checkbox\" ><label for=\"sk-estimator-id-14\" class=\"sk-toggleable__label sk-toggleable__label-arrow\">Encoder</label><div class=\"sk-toggleable__content\"><pre>&lt;__main__.Encoder object at 0x00000238CCA6DB20&gt;</pre></div></div></div><div class=\"sk-item\"><div class=\"sk-estimator sk-toggleable\"><input class=\"sk-toggleable__control sk-hidden--visually\" id=\"sk-estimator-id-15\" type=\"checkbox\" ><label for=\"sk-estimator-id-15\" class=\"sk-toggleable__label sk-toggleable__label-arrow\">DataLoaderComponent</label><div class=\"sk-toggleable__content\"><pre>&lt;__main__.DataLoaderComponent object at 0x00000238CCA6DDF0&gt;</pre></div></div></div><div class=\"sk-item\"><div class=\"sk-estimator sk-toggleable\"><input class=\"sk-toggleable__control sk-hidden--visually\" id=\"sk-estimator-id-16\" type=\"checkbox\" ><label for=\"sk-estimator-id-16\" class=\"sk-toggleable__label sk-toggleable__label-arrow\">TrainedModelUploader</label><div class=\"sk-toggleable__content\"><pre>&lt;__main__.TrainedModelUploader object at 0x00000238CCA6DB50&gt;</pre></div></div></div><div class=\"sk-item\"><div class=\"sk-estimator sk-toggleable\"><input class=\"sk-toggleable__control sk-hidden--visually\" id=\"sk-estimator-id-17\" type=\"checkbox\" ><label for=\"sk-estimator-id-17\" class=\"sk-toggleable__label sk-toggleable__label-arrow\">ModelValidator</label><div class=\"sk-toggleable__content\"><pre>&lt;__main__.ModelValidator object at 0x00000238CCA6DB80&gt;</pre></div></div></div></div></div></div></div>"
      ],
      "text/plain": [
       "Pipeline(steps=[('DatasetUploader',\n",
       "                 <__main__.DatasetUploader object at 0x00000238CCA6DF10>),\n",
       "                ('PreTrainedTokenizerDownloader',\n",
       "                 <__main__.PreTrainedTokenizerDownloader object at 0x00000238CCA6DD90>),\n",
       "                ('Encoder', <__main__.Encoder object at 0x00000238CCA6DB20>),\n",
       "                ('DataLoaderComponent',\n",
       "                 <__main__.DataLoaderComponent object at 0x00000238CCA6DDF0>),\n",
       "                ('TrainedModelUploader',\n",
       "                 <__main__.TrainedModelUploader object at 0x00000238CCA6DB50>),\n",
       "                ('ModelValidator',\n",
       "                 <__main__.ModelValidator object at 0x00000238CCA6DB80>)])"
      ]
     },
     "execution_count": 11,
     "metadata": {},
     "output_type": "execute_result"
    }
   ],
   "source": [
    "cls_validation_pipeline"
   ]
  },
  {
   "cell_type": "code",
   "execution_count": 12,
   "metadata": {},
   "outputs": [
    {
     "data": {
      "text/html": [
       "<style>#sk-container-id-4 {color: black;background-color: white;}#sk-container-id-4 pre{padding: 0;}#sk-container-id-4 div.sk-toggleable {background-color: white;}#sk-container-id-4 label.sk-toggleable__label {cursor: pointer;display: block;width: 100%;margin-bottom: 0;padding: 0.3em;box-sizing: border-box;text-align: center;}#sk-container-id-4 label.sk-toggleable__label-arrow:before {content: \"▸\";float: left;margin-right: 0.25em;color: #696969;}#sk-container-id-4 label.sk-toggleable__label-arrow:hover:before {color: black;}#sk-container-id-4 div.sk-estimator:hover label.sk-toggleable__label-arrow:before {color: black;}#sk-container-id-4 div.sk-toggleable__content {max-height: 0;max-width: 0;overflow: hidden;text-align: left;background-color: #f0f8ff;}#sk-container-id-4 div.sk-toggleable__content pre {margin: 0.2em;color: black;border-radius: 0.25em;background-color: #f0f8ff;}#sk-container-id-4 input.sk-toggleable__control:checked~div.sk-toggleable__content {max-height: 200px;max-width: 100%;overflow: auto;}#sk-container-id-4 input.sk-toggleable__control:checked~label.sk-toggleable__label-arrow:before {content: \"▾\";}#sk-container-id-4 div.sk-estimator input.sk-toggleable__control:checked~label.sk-toggleable__label {background-color: #d4ebff;}#sk-container-id-4 div.sk-label input.sk-toggleable__control:checked~label.sk-toggleable__label {background-color: #d4ebff;}#sk-container-id-4 input.sk-hidden--visually {border: 0;clip: rect(1px 1px 1px 1px);clip: rect(1px, 1px, 1px, 1px);height: 1px;margin: -1px;overflow: hidden;padding: 0;position: absolute;width: 1px;}#sk-container-id-4 div.sk-estimator {font-family: monospace;background-color: #f0f8ff;border: 1px dotted black;border-radius: 0.25em;box-sizing: border-box;margin-bottom: 0.5em;}#sk-container-id-4 div.sk-estimator:hover {background-color: #d4ebff;}#sk-container-id-4 div.sk-parallel-item::after {content: \"\";width: 100%;border-bottom: 1px solid gray;flex-grow: 1;}#sk-container-id-4 div.sk-label:hover label.sk-toggleable__label {background-color: #d4ebff;}#sk-container-id-4 div.sk-serial::before {content: \"\";position: absolute;border-left: 1px solid gray;box-sizing: border-box;top: 0;bottom: 0;left: 50%;z-index: 0;}#sk-container-id-4 div.sk-serial {display: flex;flex-direction: column;align-items: center;background-color: white;padding-right: 0.2em;padding-left: 0.2em;position: relative;}#sk-container-id-4 div.sk-item {position: relative;z-index: 1;}#sk-container-id-4 div.sk-parallel {display: flex;align-items: stretch;justify-content: center;background-color: white;position: relative;}#sk-container-id-4 div.sk-item::before, #sk-container-id-4 div.sk-parallel-item::before {content: \"\";position: absolute;border-left: 1px solid gray;box-sizing: border-box;top: 0;bottom: 0;left: 50%;z-index: -1;}#sk-container-id-4 div.sk-parallel-item {display: flex;flex-direction: column;z-index: 1;position: relative;background-color: white;}#sk-container-id-4 div.sk-parallel-item:first-child::after {align-self: flex-end;width: 50%;}#sk-container-id-4 div.sk-parallel-item:last-child::after {align-self: flex-start;width: 50%;}#sk-container-id-4 div.sk-parallel-item:only-child::after {width: 0;}#sk-container-id-4 div.sk-dashed-wrapped {border: 1px dashed gray;margin: 0 0.4em 0.5em 0.4em;box-sizing: border-box;padding-bottom: 0.4em;background-color: white;}#sk-container-id-4 div.sk-label label {font-family: monospace;font-weight: bold;display: inline-block;line-height: 1.2em;}#sk-container-id-4 div.sk-label-container {text-align: center;}#sk-container-id-4 div.sk-container {/* jupyter's `normalize.less` sets `[hidden] { display: none; }` but bootstrap.min.css set `[hidden] { display: none !important; }` so we also need the `!important` here to be able to override the default hidden behavior on the sphinx rendered scikit-learn.org. See: https://github.com/scikit-learn/scikit-learn/issues/21755 */display: inline-block !important;position: relative;}#sk-container-id-4 div.sk-text-repr-fallback {display: none;}</style><div id=\"sk-container-id-4\" class=\"sk-top-container\"><div class=\"sk-text-repr-fallback\"><pre>Pipeline(steps=[(&#x27;DatasetUploader&#x27;,\n",
       "                 &lt;__main__.DatasetUploader object at 0x000002389DBB3490&gt;),\n",
       "                (&#x27;DataProcessor&#x27;,\n",
       "                 &lt;__main__.DataProcessor object at 0x000002389DBB3130&gt;),\n",
       "                (&#x27;PreTrainedTokenizerDownloader&#x27;,\n",
       "                 &lt;__main__.PreTrainedTokenizerDownloader object at 0x000002389DBB30D0&gt;),\n",
       "                (&#x27;Encoder&#x27;, &lt;__main__.Encoder object at 0x000002389DBB3730&gt;),\n",
       "                (&#x27;DataLoaderComponent&#x27;,\n",
       "                 &lt;__main__.DataLoaderComponent object at 0x000002389DBB3160&gt;),\n",
       "                (&#x27;PreTrainedModelUploader&#x27;,\n",
       "                 &lt;__main__.PreTrainedModelDownloader object at 0x000002389DBB39A0&gt;),\n",
       "                (&#x27;Trainer&#x27;, &lt;__main__.Trainer object at 0x000002389DBB37C0&gt;)])</pre><b>In a Jupyter environment, please rerun this cell to show the HTML representation or trust the notebook. <br />On GitHub, the HTML representation is unable to render, please try loading this page with nbviewer.org.</b></div><div class=\"sk-container\" hidden><div class=\"sk-item sk-dashed-wrapped\"><div class=\"sk-label-container\"><div class=\"sk-label sk-toggleable\"><input class=\"sk-toggleable__control sk-hidden--visually\" id=\"sk-estimator-id-18\" type=\"checkbox\" ><label for=\"sk-estimator-id-18\" class=\"sk-toggleable__label sk-toggleable__label-arrow\">Pipeline</label><div class=\"sk-toggleable__content\"><pre>Pipeline(steps=[(&#x27;DatasetUploader&#x27;,\n",
       "                 &lt;__main__.DatasetUploader object at 0x000002389DBB3490&gt;),\n",
       "                (&#x27;DataProcessor&#x27;,\n",
       "                 &lt;__main__.DataProcessor object at 0x000002389DBB3130&gt;),\n",
       "                (&#x27;PreTrainedTokenizerDownloader&#x27;,\n",
       "                 &lt;__main__.PreTrainedTokenizerDownloader object at 0x000002389DBB30D0&gt;),\n",
       "                (&#x27;Encoder&#x27;, &lt;__main__.Encoder object at 0x000002389DBB3730&gt;),\n",
       "                (&#x27;DataLoaderComponent&#x27;,\n",
       "                 &lt;__main__.DataLoaderComponent object at 0x000002389DBB3160&gt;),\n",
       "                (&#x27;PreTrainedModelUploader&#x27;,\n",
       "                 &lt;__main__.PreTrainedModelDownloader object at 0x000002389DBB39A0&gt;),\n",
       "                (&#x27;Trainer&#x27;, &lt;__main__.Trainer object at 0x000002389DBB37C0&gt;)])</pre></div></div></div><div class=\"sk-serial\"><div class=\"sk-item\"><div class=\"sk-estimator sk-toggleable\"><input class=\"sk-toggleable__control sk-hidden--visually\" id=\"sk-estimator-id-19\" type=\"checkbox\" ><label for=\"sk-estimator-id-19\" class=\"sk-toggleable__label sk-toggleable__label-arrow\">DatasetUploader</label><div class=\"sk-toggleable__content\"><pre>&lt;__main__.DatasetUploader object at 0x000002389DBB3490&gt;</pre></div></div></div><div class=\"sk-item\"><div class=\"sk-estimator sk-toggleable\"><input class=\"sk-toggleable__control sk-hidden--visually\" id=\"sk-estimator-id-20\" type=\"checkbox\" ><label for=\"sk-estimator-id-20\" class=\"sk-toggleable__label sk-toggleable__label-arrow\">DataProcessor</label><div class=\"sk-toggleable__content\"><pre>&lt;__main__.DataProcessor object at 0x000002389DBB3130&gt;</pre></div></div></div><div class=\"sk-item\"><div class=\"sk-estimator sk-toggleable\"><input class=\"sk-toggleable__control sk-hidden--visually\" id=\"sk-estimator-id-21\" type=\"checkbox\" ><label for=\"sk-estimator-id-21\" class=\"sk-toggleable__label sk-toggleable__label-arrow\">PreTrainedTokenizerDownloader</label><div class=\"sk-toggleable__content\"><pre>&lt;__main__.PreTrainedTokenizerDownloader object at 0x000002389DBB30D0&gt;</pre></div></div></div><div class=\"sk-item\"><div class=\"sk-estimator sk-toggleable\"><input class=\"sk-toggleable__control sk-hidden--visually\" id=\"sk-estimator-id-22\" type=\"checkbox\" ><label for=\"sk-estimator-id-22\" class=\"sk-toggleable__label sk-toggleable__label-arrow\">Encoder</label><div class=\"sk-toggleable__content\"><pre>&lt;__main__.Encoder object at 0x000002389DBB3730&gt;</pre></div></div></div><div class=\"sk-item\"><div class=\"sk-estimator sk-toggleable\"><input class=\"sk-toggleable__control sk-hidden--visually\" id=\"sk-estimator-id-23\" type=\"checkbox\" ><label for=\"sk-estimator-id-23\" class=\"sk-toggleable__label sk-toggleable__label-arrow\">DataLoaderComponent</label><div class=\"sk-toggleable__content\"><pre>&lt;__main__.DataLoaderComponent object at 0x000002389DBB3160&gt;</pre></div></div></div><div class=\"sk-item\"><div class=\"sk-estimator sk-toggleable\"><input class=\"sk-toggleable__control sk-hidden--visually\" id=\"sk-estimator-id-24\" type=\"checkbox\" ><label for=\"sk-estimator-id-24\" class=\"sk-toggleable__label sk-toggleable__label-arrow\">PreTrainedModelDownloader</label><div class=\"sk-toggleable__content\"><pre>&lt;__main__.PreTrainedModelDownloader object at 0x000002389DBB39A0&gt;</pre></div></div></div><div class=\"sk-item\"><div class=\"sk-estimator sk-toggleable\"><input class=\"sk-toggleable__control sk-hidden--visually\" id=\"sk-estimator-id-25\" type=\"checkbox\" ><label for=\"sk-estimator-id-25\" class=\"sk-toggleable__label sk-toggleable__label-arrow\">Trainer</label><div class=\"sk-toggleable__content\"><pre>&lt;__main__.Trainer object at 0x000002389DBB37C0&gt;</pre></div></div></div></div></div></div></div>"
      ],
      "text/plain": [
       "Pipeline(steps=[('DatasetUploader',\n",
       "                 <__main__.DatasetUploader object at 0x000002389DBB3490>),\n",
       "                ('DataProcessor',\n",
       "                 <__main__.DataProcessor object at 0x000002389DBB3130>),\n",
       "                ('PreTrainedTokenizerDownloader',\n",
       "                 <__main__.PreTrainedTokenizerDownloader object at 0x000002389DBB30D0>),\n",
       "                ('Encoder', <__main__.Encoder object at 0x000002389DBB3730>),\n",
       "                ('DataLoaderComponent',\n",
       "                 <__main__.DataLoaderComponent object at 0x000002389DBB3160>),\n",
       "                ('PreTrainedModelUploader',\n",
       "                 <__main__.PreTrainedModelDownloader object at 0x000002389DBB39A0>),\n",
       "                ('Trainer', <__main__.Trainer object at 0x000002389DBB37C0>)])"
      ]
     },
     "execution_count": 12,
     "metadata": {},
     "output_type": "execute_result"
    }
   ],
   "source": [
    "qg_training_pipeline"
   ]
  },
  {
   "cell_type": "code",
   "execution_count": 13,
   "metadata": {},
   "outputs": [
    {
     "data": {
      "text/html": [
       "<style>#sk-container-id-5 {color: black;background-color: white;}#sk-container-id-5 pre{padding: 0;}#sk-container-id-5 div.sk-toggleable {background-color: white;}#sk-container-id-5 label.sk-toggleable__label {cursor: pointer;display: block;width: 100%;margin-bottom: 0;padding: 0.3em;box-sizing: border-box;text-align: center;}#sk-container-id-5 label.sk-toggleable__label-arrow:before {content: \"▸\";float: left;margin-right: 0.25em;color: #696969;}#sk-container-id-5 label.sk-toggleable__label-arrow:hover:before {color: black;}#sk-container-id-5 div.sk-estimator:hover label.sk-toggleable__label-arrow:before {color: black;}#sk-container-id-5 div.sk-toggleable__content {max-height: 0;max-width: 0;overflow: hidden;text-align: left;background-color: #f0f8ff;}#sk-container-id-5 div.sk-toggleable__content pre {margin: 0.2em;color: black;border-radius: 0.25em;background-color: #f0f8ff;}#sk-container-id-5 input.sk-toggleable__control:checked~div.sk-toggleable__content {max-height: 200px;max-width: 100%;overflow: auto;}#sk-container-id-5 input.sk-toggleable__control:checked~label.sk-toggleable__label-arrow:before {content: \"▾\";}#sk-container-id-5 div.sk-estimator input.sk-toggleable__control:checked~label.sk-toggleable__label {background-color: #d4ebff;}#sk-container-id-5 div.sk-label input.sk-toggleable__control:checked~label.sk-toggleable__label {background-color: #d4ebff;}#sk-container-id-5 input.sk-hidden--visually {border: 0;clip: rect(1px 1px 1px 1px);clip: rect(1px, 1px, 1px, 1px);height: 1px;margin: -1px;overflow: hidden;padding: 0;position: absolute;width: 1px;}#sk-container-id-5 div.sk-estimator {font-family: monospace;background-color: #f0f8ff;border: 1px dotted black;border-radius: 0.25em;box-sizing: border-box;margin-bottom: 0.5em;}#sk-container-id-5 div.sk-estimator:hover {background-color: #d4ebff;}#sk-container-id-5 div.sk-parallel-item::after {content: \"\";width: 100%;border-bottom: 1px solid gray;flex-grow: 1;}#sk-container-id-5 div.sk-label:hover label.sk-toggleable__label {background-color: #d4ebff;}#sk-container-id-5 div.sk-serial::before {content: \"\";position: absolute;border-left: 1px solid gray;box-sizing: border-box;top: 0;bottom: 0;left: 50%;z-index: 0;}#sk-container-id-5 div.sk-serial {display: flex;flex-direction: column;align-items: center;background-color: white;padding-right: 0.2em;padding-left: 0.2em;position: relative;}#sk-container-id-5 div.sk-item {position: relative;z-index: 1;}#sk-container-id-5 div.sk-parallel {display: flex;align-items: stretch;justify-content: center;background-color: white;position: relative;}#sk-container-id-5 div.sk-item::before, #sk-container-id-5 div.sk-parallel-item::before {content: \"\";position: absolute;border-left: 1px solid gray;box-sizing: border-box;top: 0;bottom: 0;left: 50%;z-index: -1;}#sk-container-id-5 div.sk-parallel-item {display: flex;flex-direction: column;z-index: 1;position: relative;background-color: white;}#sk-container-id-5 div.sk-parallel-item:first-child::after {align-self: flex-end;width: 50%;}#sk-container-id-5 div.sk-parallel-item:last-child::after {align-self: flex-start;width: 50%;}#sk-container-id-5 div.sk-parallel-item:only-child::after {width: 0;}#sk-container-id-5 div.sk-dashed-wrapped {border: 1px dashed gray;margin: 0 0.4em 0.5em 0.4em;box-sizing: border-box;padding-bottom: 0.4em;background-color: white;}#sk-container-id-5 div.sk-label label {font-family: monospace;font-weight: bold;display: inline-block;line-height: 1.2em;}#sk-container-id-5 div.sk-label-container {text-align: center;}#sk-container-id-5 div.sk-container {/* jupyter's `normalize.less` sets `[hidden] { display: none; }` but bootstrap.min.css set `[hidden] { display: none !important; }` so we also need the `!important` here to be able to override the default hidden behavior on the sphinx rendered scikit-learn.org. See: https://github.com/scikit-learn/scikit-learn/issues/21755 */display: inline-block !important;position: relative;}#sk-container-id-5 div.sk-text-repr-fallback {display: none;}</style><div id=\"sk-container-id-5\" class=\"sk-top-container\"><div class=\"sk-text-repr-fallback\"><pre>Pipeline(steps=[(&#x27;DatasetUploader&#x27;,\n",
       "                 &lt;__main__.DatasetUploader object at 0x00000238CCA6D9D0&gt;),\n",
       "                (&#x27;PreTrainedTokenizerDownloader&#x27;,\n",
       "                 &lt;__main__.PreTrainedTokenizerDownloader object at 0x00000238CCA6D430&gt;),\n",
       "                (&#x27;TrainedModelUploader&#x27;,\n",
       "                 &lt;__main__.TrainedModelUploader object at 0x00000238CCA6D970&gt;),\n",
       "                (&#x27;Decoder&#x27;, &lt;__main__.Decoder object at 0x00000238CCA6DF40&gt;)])</pre><b>In a Jupyter environment, please rerun this cell to show the HTML representation or trust the notebook. <br />On GitHub, the HTML representation is unable to render, please try loading this page with nbviewer.org.</b></div><div class=\"sk-container\" hidden><div class=\"sk-item sk-dashed-wrapped\"><div class=\"sk-label-container\"><div class=\"sk-label sk-toggleable\"><input class=\"sk-toggleable__control sk-hidden--visually\" id=\"sk-estimator-id-26\" type=\"checkbox\" ><label for=\"sk-estimator-id-26\" class=\"sk-toggleable__label sk-toggleable__label-arrow\">Pipeline</label><div class=\"sk-toggleable__content\"><pre>Pipeline(steps=[(&#x27;DatasetUploader&#x27;,\n",
       "                 &lt;__main__.DatasetUploader object at 0x00000238CCA6D9D0&gt;),\n",
       "                (&#x27;PreTrainedTokenizerDownloader&#x27;,\n",
       "                 &lt;__main__.PreTrainedTokenizerDownloader object at 0x00000238CCA6D430&gt;),\n",
       "                (&#x27;TrainedModelUploader&#x27;,\n",
       "                 &lt;__main__.TrainedModelUploader object at 0x00000238CCA6D970&gt;),\n",
       "                (&#x27;Decoder&#x27;, &lt;__main__.Decoder object at 0x00000238CCA6DF40&gt;)])</pre></div></div></div><div class=\"sk-serial\"><div class=\"sk-item\"><div class=\"sk-estimator sk-toggleable\"><input class=\"sk-toggleable__control sk-hidden--visually\" id=\"sk-estimator-id-27\" type=\"checkbox\" ><label for=\"sk-estimator-id-27\" class=\"sk-toggleable__label sk-toggleable__label-arrow\">DatasetUploader</label><div class=\"sk-toggleable__content\"><pre>&lt;__main__.DatasetUploader object at 0x00000238CCA6D9D0&gt;</pre></div></div></div><div class=\"sk-item\"><div class=\"sk-estimator sk-toggleable\"><input class=\"sk-toggleable__control sk-hidden--visually\" id=\"sk-estimator-id-28\" type=\"checkbox\" ><label for=\"sk-estimator-id-28\" class=\"sk-toggleable__label sk-toggleable__label-arrow\">PreTrainedTokenizerDownloader</label><div class=\"sk-toggleable__content\"><pre>&lt;__main__.PreTrainedTokenizerDownloader object at 0x00000238CCA6D430&gt;</pre></div></div></div><div class=\"sk-item\"><div class=\"sk-estimator sk-toggleable\"><input class=\"sk-toggleable__control sk-hidden--visually\" id=\"sk-estimator-id-29\" type=\"checkbox\" ><label for=\"sk-estimator-id-29\" class=\"sk-toggleable__label sk-toggleable__label-arrow\">TrainedModelUploader</label><div class=\"sk-toggleable__content\"><pre>&lt;__main__.TrainedModelUploader object at 0x00000238CCA6D970&gt;</pre></div></div></div><div class=\"sk-item\"><div class=\"sk-estimator sk-toggleable\"><input class=\"sk-toggleable__control sk-hidden--visually\" id=\"sk-estimator-id-30\" type=\"checkbox\" ><label for=\"sk-estimator-id-30\" class=\"sk-toggleable__label sk-toggleable__label-arrow\">Decoder</label><div class=\"sk-toggleable__content\"><pre>&lt;__main__.Decoder object at 0x00000238CCA6DF40&gt;</pre></div></div></div></div></div></div></div>"
      ],
      "text/plain": [
       "Pipeline(steps=[('DatasetUploader',\n",
       "                 <__main__.DatasetUploader object at 0x00000238CCA6D9D0>),\n",
       "                ('PreTrainedTokenizerDownloader',\n",
       "                 <__main__.PreTrainedTokenizerDownloader object at 0x00000238CCA6D430>),\n",
       "                ('TrainedModelUploader',\n",
       "                 <__main__.TrainedModelUploader object at 0x00000238CCA6D970>),\n",
       "                ('Decoder', <__main__.Decoder object at 0x00000238CCA6DF40>)])"
      ]
     },
     "execution_count": 13,
     "metadata": {},
     "output_type": "execute_result"
    }
   ],
   "source": [
    "qg_decoder_pipeline"
   ]
  },
  {
   "cell_type": "code",
   "execution_count": 14,
   "metadata": {},
   "outputs": [
    {
     "data": {
      "text/html": [
       "<style>#sk-container-id-6 {color: black;background-color: white;}#sk-container-id-6 pre{padding: 0;}#sk-container-id-6 div.sk-toggleable {background-color: white;}#sk-container-id-6 label.sk-toggleable__label {cursor: pointer;display: block;width: 100%;margin-bottom: 0;padding: 0.3em;box-sizing: border-box;text-align: center;}#sk-container-id-6 label.sk-toggleable__label-arrow:before {content: \"▸\";float: left;margin-right: 0.25em;color: #696969;}#sk-container-id-6 label.sk-toggleable__label-arrow:hover:before {color: black;}#sk-container-id-6 div.sk-estimator:hover label.sk-toggleable__label-arrow:before {color: black;}#sk-container-id-6 div.sk-toggleable__content {max-height: 0;max-width: 0;overflow: hidden;text-align: left;background-color: #f0f8ff;}#sk-container-id-6 div.sk-toggleable__content pre {margin: 0.2em;color: black;border-radius: 0.25em;background-color: #f0f8ff;}#sk-container-id-6 input.sk-toggleable__control:checked~div.sk-toggleable__content {max-height: 200px;max-width: 100%;overflow: auto;}#sk-container-id-6 input.sk-toggleable__control:checked~label.sk-toggleable__label-arrow:before {content: \"▾\";}#sk-container-id-6 div.sk-estimator input.sk-toggleable__control:checked~label.sk-toggleable__label {background-color: #d4ebff;}#sk-container-id-6 div.sk-label input.sk-toggleable__control:checked~label.sk-toggleable__label {background-color: #d4ebff;}#sk-container-id-6 input.sk-hidden--visually {border: 0;clip: rect(1px 1px 1px 1px);clip: rect(1px, 1px, 1px, 1px);height: 1px;margin: -1px;overflow: hidden;padding: 0;position: absolute;width: 1px;}#sk-container-id-6 div.sk-estimator {font-family: monospace;background-color: #f0f8ff;border: 1px dotted black;border-radius: 0.25em;box-sizing: border-box;margin-bottom: 0.5em;}#sk-container-id-6 div.sk-estimator:hover {background-color: #d4ebff;}#sk-container-id-6 div.sk-parallel-item::after {content: \"\";width: 100%;border-bottom: 1px solid gray;flex-grow: 1;}#sk-container-id-6 div.sk-label:hover label.sk-toggleable__label {background-color: #d4ebff;}#sk-container-id-6 div.sk-serial::before {content: \"\";position: absolute;border-left: 1px solid gray;box-sizing: border-box;top: 0;bottom: 0;left: 50%;z-index: 0;}#sk-container-id-6 div.sk-serial {display: flex;flex-direction: column;align-items: center;background-color: white;padding-right: 0.2em;padding-left: 0.2em;position: relative;}#sk-container-id-6 div.sk-item {position: relative;z-index: 1;}#sk-container-id-6 div.sk-parallel {display: flex;align-items: stretch;justify-content: center;background-color: white;position: relative;}#sk-container-id-6 div.sk-item::before, #sk-container-id-6 div.sk-parallel-item::before {content: \"\";position: absolute;border-left: 1px solid gray;box-sizing: border-box;top: 0;bottom: 0;left: 50%;z-index: -1;}#sk-container-id-6 div.sk-parallel-item {display: flex;flex-direction: column;z-index: 1;position: relative;background-color: white;}#sk-container-id-6 div.sk-parallel-item:first-child::after {align-self: flex-end;width: 50%;}#sk-container-id-6 div.sk-parallel-item:last-child::after {align-self: flex-start;width: 50%;}#sk-container-id-6 div.sk-parallel-item:only-child::after {width: 0;}#sk-container-id-6 div.sk-dashed-wrapped {border: 1px dashed gray;margin: 0 0.4em 0.5em 0.4em;box-sizing: border-box;padding-bottom: 0.4em;background-color: white;}#sk-container-id-6 div.sk-label label {font-family: monospace;font-weight: bold;display: inline-block;line-height: 1.2em;}#sk-container-id-6 div.sk-label-container {text-align: center;}#sk-container-id-6 div.sk-container {/* jupyter's `normalize.less` sets `[hidden] { display: none; }` but bootstrap.min.css set `[hidden] { display: none !important; }` so we also need the `!important` here to be able to override the default hidden behavior on the sphinx rendered scikit-learn.org. See: https://github.com/scikit-learn/scikit-learn/issues/21755 */display: inline-block !important;position: relative;}#sk-container-id-6 div.sk-text-repr-fallback {display: none;}</style><div id=\"sk-container-id-6\" class=\"sk-top-container\"><div class=\"sk-text-repr-fallback\"><pre>Pipeline(steps=[(&#x27;QuestionsMapperAndSimilarity&#x27;,\n",
       "                 &lt;__main__.QuestionsMapperAndSimilarity object at 0x000002389DBB3880&gt;),\n",
       "                (&#x27;QuestionsMetrics&#x27;,\n",
       "                 &lt;__main__.QuestionsMetrics object at 0x000002389DBB3070&gt;)])</pre><b>In a Jupyter environment, please rerun this cell to show the HTML representation or trust the notebook. <br />On GitHub, the HTML representation is unable to render, please try loading this page with nbviewer.org.</b></div><div class=\"sk-container\" hidden><div class=\"sk-item sk-dashed-wrapped\"><div class=\"sk-label-container\"><div class=\"sk-label sk-toggleable\"><input class=\"sk-toggleable__control sk-hidden--visually\" id=\"sk-estimator-id-31\" type=\"checkbox\" ><label for=\"sk-estimator-id-31\" class=\"sk-toggleable__label sk-toggleable__label-arrow\">Pipeline</label><div class=\"sk-toggleable__content\"><pre>Pipeline(steps=[(&#x27;QuestionsMapperAndSimilarity&#x27;,\n",
       "                 &lt;__main__.QuestionsMapperAndSimilarity object at 0x000002389DBB3880&gt;),\n",
       "                (&#x27;QuestionsMetrics&#x27;,\n",
       "                 &lt;__main__.QuestionsMetrics object at 0x000002389DBB3070&gt;)])</pre></div></div></div><div class=\"sk-serial\"><div class=\"sk-item\"><div class=\"sk-estimator sk-toggleable\"><input class=\"sk-toggleable__control sk-hidden--visually\" id=\"sk-estimator-id-32\" type=\"checkbox\" ><label for=\"sk-estimator-id-32\" class=\"sk-toggleable__label sk-toggleable__label-arrow\">QuestionsMapperAndSimilarity</label><div class=\"sk-toggleable__content\"><pre>&lt;__main__.QuestionsMapperAndSimilarity object at 0x000002389DBB3880&gt;</pre></div></div></div><div class=\"sk-item\"><div class=\"sk-estimator sk-toggleable\"><input class=\"sk-toggleable__control sk-hidden--visually\" id=\"sk-estimator-id-33\" type=\"checkbox\" ><label for=\"sk-estimator-id-33\" class=\"sk-toggleable__label sk-toggleable__label-arrow\">QuestionsMetrics</label><div class=\"sk-toggleable__content\"><pre>&lt;__main__.QuestionsMetrics object at 0x000002389DBB3070&gt;</pre></div></div></div></div></div></div></div>"
      ],
      "text/plain": [
       "Pipeline(steps=[('QuestionsMapperAndSimilarity',\n",
       "                 <__main__.QuestionsMapperAndSimilarity object at 0x000002389DBB3880>),\n",
       "                ('QuestionsMetrics',\n",
       "                 <__main__.QuestionsMetrics object at 0x000002389DBB3070>)])"
      ]
     },
     "execution_count": 14,
     "metadata": {},
     "output_type": "execute_result"
    }
   ],
   "source": [
    "questions_validation_pipeline"
   ]
  },
  {
   "cell_type": "code",
   "execution_count": 15,
   "metadata": {},
   "outputs": [
    {
     "data": {
      "text/html": [
       "<style>#sk-container-id-7 {color: black;background-color: white;}#sk-container-id-7 pre{padding: 0;}#sk-container-id-7 div.sk-toggleable {background-color: white;}#sk-container-id-7 label.sk-toggleable__label {cursor: pointer;display: block;width: 100%;margin-bottom: 0;padding: 0.3em;box-sizing: border-box;text-align: center;}#sk-container-id-7 label.sk-toggleable__label-arrow:before {content: \"▸\";float: left;margin-right: 0.25em;color: #696969;}#sk-container-id-7 label.sk-toggleable__label-arrow:hover:before {color: black;}#sk-container-id-7 div.sk-estimator:hover label.sk-toggleable__label-arrow:before {color: black;}#sk-container-id-7 div.sk-toggleable__content {max-height: 0;max-width: 0;overflow: hidden;text-align: left;background-color: #f0f8ff;}#sk-container-id-7 div.sk-toggleable__content pre {margin: 0.2em;color: black;border-radius: 0.25em;background-color: #f0f8ff;}#sk-container-id-7 input.sk-toggleable__control:checked~div.sk-toggleable__content {max-height: 200px;max-width: 100%;overflow: auto;}#sk-container-id-7 input.sk-toggleable__control:checked~label.sk-toggleable__label-arrow:before {content: \"▾\";}#sk-container-id-7 div.sk-estimator input.sk-toggleable__control:checked~label.sk-toggleable__label {background-color: #d4ebff;}#sk-container-id-7 div.sk-label input.sk-toggleable__control:checked~label.sk-toggleable__label {background-color: #d4ebff;}#sk-container-id-7 input.sk-hidden--visually {border: 0;clip: rect(1px 1px 1px 1px);clip: rect(1px, 1px, 1px, 1px);height: 1px;margin: -1px;overflow: hidden;padding: 0;position: absolute;width: 1px;}#sk-container-id-7 div.sk-estimator {font-family: monospace;background-color: #f0f8ff;border: 1px dotted black;border-radius: 0.25em;box-sizing: border-box;margin-bottom: 0.5em;}#sk-container-id-7 div.sk-estimator:hover {background-color: #d4ebff;}#sk-container-id-7 div.sk-parallel-item::after {content: \"\";width: 100%;border-bottom: 1px solid gray;flex-grow: 1;}#sk-container-id-7 div.sk-label:hover label.sk-toggleable__label {background-color: #d4ebff;}#sk-container-id-7 div.sk-serial::before {content: \"\";position: absolute;border-left: 1px solid gray;box-sizing: border-box;top: 0;bottom: 0;left: 50%;z-index: 0;}#sk-container-id-7 div.sk-serial {display: flex;flex-direction: column;align-items: center;background-color: white;padding-right: 0.2em;padding-left: 0.2em;position: relative;}#sk-container-id-7 div.sk-item {position: relative;z-index: 1;}#sk-container-id-7 div.sk-parallel {display: flex;align-items: stretch;justify-content: center;background-color: white;position: relative;}#sk-container-id-7 div.sk-item::before, #sk-container-id-7 div.sk-parallel-item::before {content: \"\";position: absolute;border-left: 1px solid gray;box-sizing: border-box;top: 0;bottom: 0;left: 50%;z-index: -1;}#sk-container-id-7 div.sk-parallel-item {display: flex;flex-direction: column;z-index: 1;position: relative;background-color: white;}#sk-container-id-7 div.sk-parallel-item:first-child::after {align-self: flex-end;width: 50%;}#sk-container-id-7 div.sk-parallel-item:last-child::after {align-self: flex-start;width: 50%;}#sk-container-id-7 div.sk-parallel-item:only-child::after {width: 0;}#sk-container-id-7 div.sk-dashed-wrapped {border: 1px dashed gray;margin: 0 0.4em 0.5em 0.4em;box-sizing: border-box;padding-bottom: 0.4em;background-color: white;}#sk-container-id-7 div.sk-label label {font-family: monospace;font-weight: bold;display: inline-block;line-height: 1.2em;}#sk-container-id-7 div.sk-label-container {text-align: center;}#sk-container-id-7 div.sk-container {/* jupyter's `normalize.less` sets `[hidden] { display: none; }` but bootstrap.min.css set `[hidden] { display: none !important; }` so we also need the `!important` here to be able to override the default hidden behavior on the sphinx rendered scikit-learn.org. See: https://github.com/scikit-learn/scikit-learn/issues/21755 */display: inline-block !important;position: relative;}#sk-container-id-7 div.sk-text-repr-fallback {display: none;}</style><div id=\"sk-container-id-7\" class=\"sk-top-container\"><div class=\"sk-text-repr-fallback\"><pre>Pipeline(steps=[(&#x27;DatasetUploader&#x27;,\n",
       "                 &lt;__main__.DatasetUploader object at 0x00000238CCA80100&gt;),\n",
       "                (&#x27;PreTrainedTokenizerDownloader&#x27;,\n",
       "                 &lt;__main__.PreTrainedTokenizerDownloader object at 0x00000238CCA80220&gt;),\n",
       "                (&#x27;Encoder&#x27;, &lt;__main__.Encoder object at 0x00000238CCA80310&gt;),\n",
       "                (&#x27;DataLoaderComponent&#x27;,\n",
       "                 &lt;__main__.DataLoaderComponent object at 0x00000238CCA801C0&gt;),\n",
       "                (&#x27;TrainedModelUploader&#x27;,\n",
       "                 &lt;__main__.TrainedModelUploader object at 0x00000238CCA801F0&gt;),\n",
       "                (&#x27;QuestionsClassifier&#x27;,\n",
       "                 &lt;__main__.QuestionsClassifier object at 0x00000238CCA80250&gt;)])</pre><b>In a Jupyter environment, please rerun this cell to show the HTML representation or trust the notebook. <br />On GitHub, the HTML representation is unable to render, please try loading this page with nbviewer.org.</b></div><div class=\"sk-container\" hidden><div class=\"sk-item sk-dashed-wrapped\"><div class=\"sk-label-container\"><div class=\"sk-label sk-toggleable\"><input class=\"sk-toggleable__control sk-hidden--visually\" id=\"sk-estimator-id-34\" type=\"checkbox\" ><label for=\"sk-estimator-id-34\" class=\"sk-toggleable__label sk-toggleable__label-arrow\">Pipeline</label><div class=\"sk-toggleable__content\"><pre>Pipeline(steps=[(&#x27;DatasetUploader&#x27;,\n",
       "                 &lt;__main__.DatasetUploader object at 0x00000238CCA80100&gt;),\n",
       "                (&#x27;PreTrainedTokenizerDownloader&#x27;,\n",
       "                 &lt;__main__.PreTrainedTokenizerDownloader object at 0x00000238CCA80220&gt;),\n",
       "                (&#x27;Encoder&#x27;, &lt;__main__.Encoder object at 0x00000238CCA80310&gt;),\n",
       "                (&#x27;DataLoaderComponent&#x27;,\n",
       "                 &lt;__main__.DataLoaderComponent object at 0x00000238CCA801C0&gt;),\n",
       "                (&#x27;TrainedModelUploader&#x27;,\n",
       "                 &lt;__main__.TrainedModelUploader object at 0x00000238CCA801F0&gt;),\n",
       "                (&#x27;QuestionsClassifier&#x27;,\n",
       "                 &lt;__main__.QuestionsClassifier object at 0x00000238CCA80250&gt;)])</pre></div></div></div><div class=\"sk-serial\"><div class=\"sk-item\"><div class=\"sk-estimator sk-toggleable\"><input class=\"sk-toggleable__control sk-hidden--visually\" id=\"sk-estimator-id-35\" type=\"checkbox\" ><label for=\"sk-estimator-id-35\" class=\"sk-toggleable__label sk-toggleable__label-arrow\">DatasetUploader</label><div class=\"sk-toggleable__content\"><pre>&lt;__main__.DatasetUploader object at 0x00000238CCA80100&gt;</pre></div></div></div><div class=\"sk-item\"><div class=\"sk-estimator sk-toggleable\"><input class=\"sk-toggleable__control sk-hidden--visually\" id=\"sk-estimator-id-36\" type=\"checkbox\" ><label for=\"sk-estimator-id-36\" class=\"sk-toggleable__label sk-toggleable__label-arrow\">PreTrainedTokenizerDownloader</label><div class=\"sk-toggleable__content\"><pre>&lt;__main__.PreTrainedTokenizerDownloader object at 0x00000238CCA80220&gt;</pre></div></div></div><div class=\"sk-item\"><div class=\"sk-estimator sk-toggleable\"><input class=\"sk-toggleable__control sk-hidden--visually\" id=\"sk-estimator-id-37\" type=\"checkbox\" ><label for=\"sk-estimator-id-37\" class=\"sk-toggleable__label sk-toggleable__label-arrow\">Encoder</label><div class=\"sk-toggleable__content\"><pre>&lt;__main__.Encoder object at 0x00000238CCA80310&gt;</pre></div></div></div><div class=\"sk-item\"><div class=\"sk-estimator sk-toggleable\"><input class=\"sk-toggleable__control sk-hidden--visually\" id=\"sk-estimator-id-38\" type=\"checkbox\" ><label for=\"sk-estimator-id-38\" class=\"sk-toggleable__label sk-toggleable__label-arrow\">DataLoaderComponent</label><div class=\"sk-toggleable__content\"><pre>&lt;__main__.DataLoaderComponent object at 0x00000238CCA801C0&gt;</pre></div></div></div><div class=\"sk-item\"><div class=\"sk-estimator sk-toggleable\"><input class=\"sk-toggleable__control sk-hidden--visually\" id=\"sk-estimator-id-39\" type=\"checkbox\" ><label for=\"sk-estimator-id-39\" class=\"sk-toggleable__label sk-toggleable__label-arrow\">TrainedModelUploader</label><div class=\"sk-toggleable__content\"><pre>&lt;__main__.TrainedModelUploader object at 0x00000238CCA801F0&gt;</pre></div></div></div><div class=\"sk-item\"><div class=\"sk-estimator sk-toggleable\"><input class=\"sk-toggleable__control sk-hidden--visually\" id=\"sk-estimator-id-40\" type=\"checkbox\" ><label for=\"sk-estimator-id-40\" class=\"sk-toggleable__label sk-toggleable__label-arrow\">QuestionsClassifier</label><div class=\"sk-toggleable__content\"><pre>&lt;__main__.QuestionsClassifier object at 0x00000238CCA80250&gt;</pre></div></div></div></div></div></div></div>"
      ],
      "text/plain": [
       "Pipeline(steps=[('DatasetUploader',\n",
       "                 <__main__.DatasetUploader object at 0x00000238CCA80100>),\n",
       "                ('PreTrainedTokenizerDownloader',\n",
       "                 <__main__.PreTrainedTokenizerDownloader object at 0x00000238CCA80220>),\n",
       "                ('Encoder', <__main__.Encoder object at 0x00000238CCA80310>),\n",
       "                ('DataLoaderComponent',\n",
       "                 <__main__.DataLoaderComponent object at 0x00000238CCA801C0>),\n",
       "                ('TrainedModelUploader',\n",
       "                 <__main__.TrainedModelUploader object at 0x00000238CCA801F0>),\n",
       "                ('QuestionsClassifier',\n",
       "                 <__main__.QuestionsClassifier object at 0x00000238CCA80250>)])"
      ]
     },
     "execution_count": 15,
     "metadata": {},
     "output_type": "execute_result"
    }
   ],
   "source": [
    "questions_classification_pipeline"
   ]
  }
 ],
 "metadata": {
  "kernelspec": {
   "display_name": "Python 3.8.13 ('ques_gen_env')",
   "language": "python",
   "name": "python3"
  },
  "language_info": {
   "codemirror_mode": {
    "name": "ipython",
    "version": 3
   },
   "file_extension": ".py",
   "mimetype": "text/x-python",
   "name": "python",
   "nbconvert_exporter": "python",
   "pygments_lexer": "ipython3",
   "version": "3.8.13"
  },
  "orig_nbformat": 4,
  "vscode": {
   "interpreter": {
    "hash": "bc601a73fdd21029cabb389f5777df311758dfa951f719b3a4a78b5169f7a217"
   }
  }
 },
 "nbformat": 4,
 "nbformat_minor": 2
}
